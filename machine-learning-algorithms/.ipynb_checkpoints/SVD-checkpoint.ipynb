{
 "cells": [
  {
   "cell_type": "markdown",
   "metadata": {},
   "source": [
    "# SVD Classifier"
   ]
  },
  {
   "cell_type": "markdown",
   "metadata": {},
   "source": [
    "revelvent infor has come so far from https://machinelearningmastery.com/singular-value-decomposition-for-machine-learning/\n"
   ]
  },
  {
   "cell_type": "code",
   "execution_count": 17,
   "metadata": {},
   "outputs": [],
   "source": [
    "%matplotlib inline\n",
    "import numpy as np\n",
    "import matplotlib.pyplot as plt \n",
    "import time\n",
    "import random\n",
    "#!pip install ProgressBar\n",
    "from progressbar import ProgressBar\n",
    "import math\n",
    "#!{sys.executable} -m pip install ProgressBar\n",
    "#!pip install ProgressBar\n",
    "from random import randrange\n",
    "from copy import copy, deepcopy\n",
    "\n",
    "import glob\n",
    "import json\n",
    "\n",
    "#svd stuff\n",
    "from scipy.linalg import svd\n",
    "from numpy.linalg import pinv\n"
   ]
  },
  {
   "cell_type": "code",
   "execution_count": 18,
   "metadata": {},
   "outputs": [],
   "source": [
    "#load the titles and wheater the book is alive or dead into two seperate arrays\n",
    "def loadResult():\n",
    "    test_labels = []\n",
    "    test_values = []\n",
    "    with open('table-of-contents.json', encoding=\"utf8\") as f:\n",
    "        data = json.load(f)\n",
    "        for books in data:\n",
    "            for book in data[books]:\n",
    "                test_labels.append(book['title'])\n",
    "                test_values.append(book['dead'])\n",
    "                \n",
    "    return test_labels, test_values\n",
    "\n",
    "#get the data from the data output file\n",
    "def loadData():\n",
    "    final_data = []\n",
    "    with open('dataOutput2.json', encoding=\"utf8\") as f:\n",
    "        data = json.load(f)\n",
    "        for index in data: \n",
    "            final_data.append(data[index]['chapData'])\n",
    "    return final_data"
   ]
  },
  {
   "cell_type": "code",
   "execution_count": 19,
   "metadata": {},
   "outputs": [
    {
     "name": "stdout",
     "output_type": "stream",
     "text": [
      "16705\n",
      "Training dataset dimensions:  (15705, 71)\n",
      "Number of training labels:  15705\n",
      "Testing dataset dimensions:  (1000, 71)\n",
      "Number of testing labels:  1000\n"
     ]
    }
   ],
   "source": [
    "\n",
    "                \n",
    "\n",
    "title_labels, dead_labels = loadResult()\n",
    "train = loadData()\n",
    "print(len(train))\n",
    "## Load the training set\n",
    "train_data= np.array(train[:15705])\n",
    "train_labels = np.array(dead_labels[:15705])\n",
    "train_titles = np.array(title_labels[:15705])\n",
    "\n",
    "\n",
    "## Load the testing set\n",
    "\n",
    "test_data= np.array(train[-1000:])\n",
    "test_labels = np.array(dead_labels[-1000:])\n",
    "test_titles = np.array(title_labels[-1000:])\n",
    "\n",
    "\n",
    "## Print out their dimensions\n",
    "print(\"Training dataset dimensions: \", np.shape(train_data))\n",
    "print(\"Number of training labels: \", len(train_labels))\n",
    "print(\"Testing dataset dimensions: \", np.shape(test_data))\n",
    "print(\"Number of testing labels: \", len(test_labels))\n",
    "\n"
   ]
  },
  {
   "cell_type": "markdown",
   "metadata": {},
   "source": [
    "For the next two items we are attempting to recreating the element. A should equal B\n"
   ]
  },
  {
   "cell_type": "code",
   "execution_count": 20,
   "metadata": {
    "scrolled": true
   },
   "outputs": [
    {
     "name": "stdout",
     "output_type": "stream",
     "text": [
      "[[  0   0   0 ...   0   1  36]\n",
      " [  0   0   0 ...   0   1   7]\n",
      " [  0   0   0 ...  20  25 689]\n",
      " ...\n",
      " [  0   0   0 ...   1   0   5]\n",
      " [  0   0   0 ...   2   0   1]\n",
      " [  0   0   1 ... 187 255 232]]\n",
      "[[-1.15860984e-14 -9.04811628e-12 -3.86037298e-14 ...  4.48476606e-14\n",
      "   1.00000000e+00  3.60000000e+01]\n",
      " [-5.20891180e-13  4.30259198e-11 -8.45907242e-13 ...  2.05838960e-12\n",
      "   1.00000000e+00  7.00000000e+00]\n",
      " [-1.07530085e-12  7.47999686e-11 -2.98695293e-13 ...  2.00000000e+01\n",
      "   2.50000000e+01  6.89000000e+02]\n",
      " ...\n",
      " [-1.25027411e-12 -4.61751207e-11  3.95266928e-12 ...  1.00000000e+00\n",
      "   8.22050549e-14  5.00000000e+00]\n",
      " [-1.02676857e-12  5.17274196e-11 -1.67764389e-12 ...  2.00000000e+00\n",
      "   4.73449136e-14  1.00000000e+00]\n",
      " [-1.15549408e-12 -4.27149486e-11  1.00000000e+00 ...  1.87000000e+02\n",
      "   2.55000000e+02  2.32000000e+02]]\n"
     ]
    }
   ],
   "source": [
    "A = np.array(train_data)\n",
    "# Singular-value decomposition\n",
    "print(A)\n",
    "U, s, VT = svd(A)\n",
    "# create m x n Sigma matrix\n",
    "Sigma = np.zeros((A.shape[0], A.shape[1]))\n",
    "# populate Sigma with n x n diagonal matrix\n",
    "Sigma[:A.shape[1], :A.shape[1]] = np.diag(s)\n",
    "# reconstruct matrix\n",
    "B = U.dot(Sigma.dot(VT))\n",
    "print(B)"
   ]
  },
  {
   "cell_type": "code",
   "execution_count": 21,
   "metadata": {},
   "outputs": [
    {
     "name": "stdout",
     "output_type": "stream",
     "text": [
      "[[  0   0   0 ...   0   1  36]\n",
      " [  0   0   0 ...   0   1   7]\n",
      " [  0   0   0 ...  20  25 689]\n",
      " ...\n",
      " [  0   0   0 ...   1   0   5]\n",
      " [  0   0   0 ...   2   0   1]\n",
      " [  0   0   1 ... 187 255 232]]\n"
     ]
    },
    {
     "ename": "ValueError",
     "evalue": "shapes (15705,15705) and (71,71) not aligned: 15705 (dim 1) != 71 (dim 0)",
     "output_type": "error",
     "traceback": [
      "\u001b[1;31m---------------------------------------------------------------------------\u001b[0m",
      "\u001b[1;31mValueError\u001b[0m                                Traceback (most recent call last)",
      "\u001b[1;32m<ipython-input-21-aa84049f0e1c>\u001b[0m in \u001b[0;36m<module>\u001b[1;34m()\u001b[0m\n\u001b[0;32m      5\u001b[0m \u001b[0mSigma\u001b[0m \u001b[1;33m=\u001b[0m \u001b[0mnp\u001b[0m\u001b[1;33m.\u001b[0m\u001b[0mdiag\u001b[0m\u001b[1;33m(\u001b[0m\u001b[0ms\u001b[0m\u001b[1;33m)\u001b[0m\u001b[1;33m\u001b[0m\u001b[0m\n\u001b[0;32m      6\u001b[0m \u001b[1;31m# reconstruct matrix\u001b[0m\u001b[1;33m\u001b[0m\u001b[1;33m\u001b[0m\u001b[0m\n\u001b[1;32m----> 7\u001b[1;33m \u001b[0mB\u001b[0m \u001b[1;33m=\u001b[0m \u001b[0mU\u001b[0m\u001b[1;33m.\u001b[0m\u001b[0mdot\u001b[0m\u001b[1;33m(\u001b[0m\u001b[0mSigma\u001b[0m\u001b[1;33m.\u001b[0m\u001b[0mdot\u001b[0m\u001b[1;33m(\u001b[0m\u001b[0mVT\u001b[0m\u001b[1;33m)\u001b[0m\u001b[1;33m)\u001b[0m\u001b[1;33m\u001b[0m\u001b[0m\n\u001b[0m\u001b[0;32m      8\u001b[0m \u001b[0mprint\u001b[0m\u001b[1;33m(\u001b[0m\u001b[0mB\u001b[0m\u001b[1;33m)\u001b[0m\u001b[1;33m\u001b[0m\u001b[0m\n",
      "\u001b[1;31mValueError\u001b[0m: shapes (15705,15705) and (71,71) not aligned: 15705 (dim 1) != 71 (dim 0)"
     ]
    }
   ],
   "source": [
    "print(A)\n",
    "# Singular-value decomposition\n",
    "U, s, VT = svd(A)\n",
    "# create n x n Sigma matrix\n",
    "Sigma = np.diag(s)\n",
    "# reconstruct matrix\n",
    "B = U.dot(Sigma.dot(VT))\n",
    "print(B)"
   ]
  },
  {
   "cell_type": "markdown",
   "metadata": {},
   "source": [
    "calculate pseudo inverse manually and compare to the built in version"
   ]
  },
  {
   "cell_type": "code",
   "execution_count": 22,
   "metadata": {},
   "outputs": [
    {
     "name": "stdout",
     "output_type": "stream",
     "text": [
      "[[  0   0   0 ...   0   1  36]\n",
      " [  0   0   0 ...   0   1   7]\n",
      " [  0   0   0 ...  20  25 689]\n",
      " ...\n",
      " [  0   0   0 ...   1   0   5]\n",
      " [  0   0   0 ...   2   0   1]\n",
      " [  0   0   1 ... 187 255 232]]\n",
      "[[ 1.41665154e-06 -7.87624385e-05 -1.50063288e-05 ... -8.81508881e-05\n",
      "  -2.43381414e-04 -1.57186015e-04]\n",
      " [-3.11887480e-05  4.14462675e-05 -2.39004888e-04 ... -1.38122724e-04\n",
      "  -1.99278900e-05 -3.38553861e-04]\n",
      " [-2.30330965e-05 -3.87923977e-05 -8.42779723e-05 ... -1.93302046e-04\n",
      "  -1.29650184e-05  1.44900618e-03]\n",
      " ...\n",
      " [-3.53724560e-07  4.86100109e-07  1.05452792e-06 ...  6.99338964e-07\n",
      "   5.91041688e-07 -3.66002797e-06]\n",
      " [ 4.49952314e-07 -4.67608076e-07 -1.13338360e-07 ... -6.02837625e-07\n",
      "  -5.32801834e-07  3.21050947e-06]\n",
      " [-3.71539162e-09 -5.57172465e-08  5.07890139e-07 ... -1.54623509e-07\n",
      "  -2.89767954e-08 -2.49413822e-07]]\n"
     ]
    }
   ],
   "source": [
    "print(A)\n",
    "# calculate pseudoinverse\n",
    "B = pinv(A)\n",
    "print(B)"
   ]
  },
  {
   "cell_type": "code",
   "execution_count": 24,
   "metadata": {},
   "outputs": [
    {
     "name": "stdout",
     "output_type": "stream",
     "text": [
      "[[  0   0   0 ...   0   1  36]\n",
      " [  0   0   0 ...   0   1   7]\n",
      " [  0   0   0 ...  20  25 689]\n",
      " ...\n",
      " [  0   0   0 ...   1   0   5]\n",
      " [  0   0   0 ...   2   0   1]\n",
      " [  0   0   1 ... 187 255 232]]\n",
      "[[ 1.41665154e-06 -7.87624385e-05 -1.50063288e-05 ... -8.81508881e-05\n",
      "  -2.43381414e-04 -1.57186015e-04]\n",
      " [-3.11883520e-05  4.14462206e-05 -2.39004961e-04 ... -1.38122710e-04\n",
      "  -1.99278888e-05 -3.38553853e-04]\n",
      " [-2.30322454e-05 -3.87925141e-05 -8.42781799e-05 ... -1.93302006e-04\n",
      "  -1.29647602e-05  1.44900626e-03]\n",
      " ...\n",
      " [-3.53724719e-07  4.86100125e-07  1.05452794e-06 ...  6.99338961e-07\n",
      "   5.91041740e-07 -3.66002796e-06]\n",
      " [ 4.49952818e-07 -4.67608132e-07 -1.13338439e-07 ... -6.02837610e-07\n",
      "  -5.32801893e-07  3.21050947e-06]\n",
      " [-3.71532570e-09 -5.57172542e-08  5.07890127e-07 ... -1.54623507e-07\n",
      "  -2.89767968e-08 -2.49413821e-07]]\n"
     ]
    }
   ],
   "source": [
    "print(A)\n",
    "# calculate svd\n",
    "U, s, VT = svd(A)\n",
    "# reciprocals of s\n",
    "d = 1.0 / s\n",
    "# create m x n D matrix\n",
    "D = np.zeros(A.shape)\n",
    "# populate D with n x n diagonal matrix\n",
    "D[:A.shape[1], :A.shape[1]] = diag(d)\n",
    "# calculate pseudoinverse\n",
    "B = VT.T.dot(D.T).dot(U.T)\n",
    "print(B)"
   ]
  },
  {
   "cell_type": "code",
   "execution_count": null,
   "metadata": {},
   "outputs": [],
   "source": []
  }
 ],
 "metadata": {
  "kernelspec": {
   "display_name": "Python 3",
   "language": "python",
   "name": "python3"
  },
  "language_info": {
   "codemirror_mode": {
    "name": "ipython",
    "version": 3
   },
   "file_extension": ".py",
   "mimetype": "text/x-python",
   "name": "python",
   "nbconvert_exporter": "python",
   "pygments_lexer": "ipython3",
   "version": "3.6.4"
  }
 },
 "nbformat": 4,
 "nbformat_minor": 2
}
