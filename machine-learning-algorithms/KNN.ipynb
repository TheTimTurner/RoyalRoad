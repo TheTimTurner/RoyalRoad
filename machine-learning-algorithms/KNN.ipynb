{
 "cells": [
  {
   "cell_type": "markdown",
   "metadata": {},
   "source": [
    "# Programming assignment 2: KNN classifier\n",
    "\n",
    "In this programming exercise, we will build a KNN classifier and apply it to a handwritten digit dataset (MNIST). Please download the datasets from Canvas and put them in the same folder of this iPython notebook.\n",
    "\n",
    "Instructions for submission: please submit the following:\n",
    "* Completed iPython notebook. We will inspect the code and run your notebook.\n",
    "* Solutions to the corresponding problems\n",
    "\n",
    "\n"
   ]
  },
  {
   "cell_type": "markdown",
   "metadata": {},
   "source": [
    "## 1. The MNIST dataset\n",
    "\n",
    "`MNIST` is a classic database of handwritten digits that is commonly used for training various image processing systems. The MNIST database contains 60,000 training images and 10,000 testing images. In this notebook we will work with a subset of this data: a training set of 2,000 images and a test set of 500 images. Each image is given by 28 X 28 grayscale pixels.\n",
    "\n",
    "First, let's first load the dataset check the basic statistics.\n"
   ]
  },
  {
   "cell_type": "code",
   "execution_count": 27,
   "metadata": {},
   "outputs": [],
   "source": [
    "%matplotlib inline\n",
    "import numpy as np\n",
    "import matplotlib.pyplot as plt \n",
    "import time\n",
    "import random\n",
    "#!pip install ProgressBar\n",
    "from progressbar import ProgressBar\n",
    "import math\n",
    "#!{sys.executable} -m pip install ProgressBar\n",
    "#!pip install ProgressBar\n",
    "from random import randrange\n",
    "from copy import copy, deepcopy\n",
    "\n",
    "import glob\n",
    "import json\n"
   ]
  },
  {
   "cell_type": "code",
   "execution_count": 69,
   "metadata": {},
   "outputs": [],
   "source": [
    "#get item from json file into test data\n",
    "def load_tester(path):\n",
    "    final_data =[]\n",
    "    chapter_data = []\n",
    "    title_data = []\n",
    "    \n",
    "    with open(path) as f:\n",
    "        data = json.load(f)\n",
    "        \n",
    "    for index in data:\n",
    "        chapter_data.append(data[index]['chapData'])\n",
    "        title_data.append(data[index]['title'])\n",
    "        \n",
    "    final_data.append(chapter_data)\n",
    "    final_data.append(title_data)\n",
    "    return np.asarray(final_data)"
   ]
  },
  {
   "cell_type": "code",
   "execution_count": 70,
   "metadata": {},
   "outputs": [
    {
     "name": "stdout",
     "output_type": "stream",
     "text": [
      "Training dataset dimensions:  (2,)\n",
      "Testing dataset dimensions:  (2,)\n",
      "Number of testing labels:  2\n",
      "Training set distribution:\n",
      "{'dÃ¬le': 2}\n",
      "Test set distribution:\n",
      "{'true': 2}\n"
     ]
    }
   ],
   "source": [
    "def searchListOfDicts(listOfDicts, attr, value):\n",
    "    \"\"\"\n",
    "    Loops through a list of dictionaries and returns matching attribute value pair\n",
    "    You can also pass it slug, silvermoon or type, pve\n",
    "    returns a list containing all matching dictionaries \n",
    "    \"\"\"\n",
    "    matches = [record for record in listOfDicts if attr in record and record[attr] == value]\n",
    "    return matches\n",
    "\n",
    "\n",
    "\n",
    "#use use json to get data\n",
    "dataOutputArray = load_tester('dataOutput.json')\n",
    "\n",
    "#load all numpy files\n",
    "numpy_vars = {}\n",
    "count = 0\n",
    "for np_name in glob.glob('*.np[yz]'):\n",
    "    numpy_vars[count] = np.load(np_name)\n",
    "    count +=1\n",
    "    \n",
    "\n",
    "\n",
    "## Load the training set\n",
    "train_data =  np.asarray(dataOutputArray[0])\n",
    "train_labels = dataOutputArray[1]\n",
    "#train_labels = np.load('mnist_train_labels.npy')[:num_trn]\n",
    "\n",
    "\n",
    "## Load the testing set\n",
    "test_data = np.asarray([1,1])\n",
    "test_labels = np.asarray(['true','true'])\n",
    "#test_data = np.load('mnist_test_data.npy')[:num_tst,]\n",
    "#test_labels = np.load('mnist_test_labels.npy')[:num_tst]\n",
    "\n",
    "\n",
    "## Print out their dimensions\n",
    "print(\"Training dataset dimensions: \", np.shape(train_data))\n",
    "#print(\"Number of training labels: \", len(train_labels))\n",
    "print(\"Testing dataset dimensions: \", np.shape(test_data))\n",
    "print(\"Number of testing labels: \", len(test_labels))\n",
    "\n",
    "## Compute the number of examples of each digit\n",
    "train_digits, train_counts = np.unique(train_labels, return_counts=True)\n",
    "print(\"Training set distribution:\")\n",
    "print(dict(zip(train_digits, train_counts)))\n",
    "\n",
    "test_digits, test_counts = np.unique(test_labels, return_counts=True)\n",
    "print(\"Test set distribution:\")\n",
    "print(dict(zip(test_digits, test_counts)))\n",
    "\n"
   ]
  },
  {
   "cell_type": "markdown",
   "metadata": {},
   "source": [
    "Now, let's randomly choose 10 images from the training dataset and visualize them."
   ]
  },
  {
   "cell_type": "code",
   "execution_count": 71,
   "metadata": {},
   "outputs": [
    {
     "name": "stdout",
     "output_type": "stream",
     "text": [
      "[list([0, 0, 0, 0, 0, 0, 1, 0, 0, 0, 0, 0, 0, 0, 0, 0, 1, 0, 0, 1, 0, 0, 0, 0, 0, 0, 0, 0, 1, 0, 0, 0, 0, 0, 0, 0, 0, 0, 1, 0, 0, 0, 0, 0, 0, 0, 0, 0, 0, 0, 1, 0, 0, 1, 0, 1, 1, 0, 0, 1, 1])\n",
      " list([0, 0, 0, 0, 0, 0, 1, 0, 0, 0, 0, 0, 0, 0, 0, 0, 1, 0, 0, 1, 0, 0, 0, 0, 0, 0, 0, 0, 1, 0, 0, 0, 0, 0, 0, 0, 0, 0, 1, 0, 0, 0, 0, 0, 0, 0, 0, 0, 0, 0, 1, 0, 0, 1, 0, 1, 1, 0, 0, 1, 1])]\n",
      "['dÃ¬le' 'dÃ¬le']\n"
     ]
    }
   ],
   "source": [
    "#lets use this space to desplay something about the data we have\n",
    "print(train_data)\n",
    "print(train_labels)"
   ]
  },
  {
   "cell_type": "markdown",
   "metadata": {},
   "source": [
    "## 2. KNN based on Euclidean distance\n",
    "\n",
    "Let's first experiment with _Euclidean distance_: for two vectors $x, y \\in \\mathbb{R}^d$, their Euclidean distance is defined as \n",
    "$$\\|x - y\\| = \\sqrt{\\sum_{i=1}^d (x_i - y_i)^2}.$$\n",
    "**Task P1:** Complete the following code section to calculate this distance. Copy the corresponding code to the problem set 1 solution pdf file."
   ]
  },
  {
   "cell_type": "code",
   "execution_count": 72,
   "metadata": {},
   "outputs": [],
   "source": [
    "## Computes squared Euclidean distance between two vectors.\n",
    "def eucl_dist(x,y):\n",
    "    # input:\n",
    "    # x, y: vectorization of an image\n",
    "    # output:\n",
    "    # the euclidean distance between the two vectors\n",
    "    \n",
    "    ### STUDENT: YOUR CODE HERE\n",
    "    \n",
    "    d = len(x)\n",
    "    sum = 0\n",
    "    \n",
    "    for i in range(d):  \n",
    "        sum = sum + pow((x[i]-y[i]),2)\n",
    "        \n",
    "    sum = math.sqrt(sum) \n",
    "    return sum\n",
    "### CODE ENDS"
   ]
  },
  {
   "cell_type": "markdown",
   "metadata": {},
   "source": [
    "Now, let's try to compute the distance between some randomly chosen images."
   ]
  },
  {
   "cell_type": "code",
   "execution_count": 73,
   "metadata": {
    "scrolled": false
   },
   "outputs": [
    {
     "name": "stdout",
     "output_type": "stream",
     "text": [
      "Distance from dÃ¬le to dÃ¬le: 0.0\n"
     ]
    }
   ],
   "source": [
    "#this gets random samples from the data set to test the distance\n",
    "#index = random.sample(range(len(train_labels)), 10)\n",
    "\n",
    "#for i in range(2):\n",
    "#    # book index\n",
    "#    k = i * 2\n",
    "print(\"Distance from \"+str(train_labels[0])+\" to \"+str(train_labels[1])+\": \"+\n",
    "          str(eucl_dist(train_data[0],train_data[1])))"
   ]
  },
  {
   "cell_type": "markdown",
   "metadata": {},
   "source": [
    "Now, let's implement the K-nearest neighbor classification. \n",
    "\n",
    "**Task P2:** Complete the following code sections for `find_KNN` and `KNN_classifier`. Copy the corresponding code to the problem set 1 solution pdf file."
   ]
  },
  {
   "cell_type": "code",
   "execution_count": 51,
   "metadata": {},
   "outputs": [],
   "source": [
    "# Take a vector x and returns the indices of its K nearest neighbors in the training set: train_data\n",
    "def find_KNN(x, train_data, train_labels, K, dist=eucl_dist):\n",
    "    # Input: \n",
    "    # x: test point\n",
    "    # train_data: training data X\n",
    "    # train_labels: training data labels y\n",
    "    # K: number of nearest neighbors considered\n",
    "    # dist: default to be the eucl_dist that you have defined above\n",
    "    # Output:\n",
    "    # The indices of the K nearest neighbors to test point x in the training set\n",
    "    \n",
    "    ##### STUDENT: Your code here #####\n",
    "    #list of distances from x\n",
    "    distances = list()\n",
    "    index = 0;\n",
    "    #go through the training data\n",
    "    for train_row in train_data:\n",
    "        curr_dist=dist(train_row, x)\n",
    "        #all the distances\n",
    "        distances.append((index, curr_dist))\n",
    "        index=index+1\n",
    "    #sort    \n",
    "    distances.sort(key=lambda tup: tup[1])\n",
    "    neighbors = list()\n",
    "   # return the lowest K distances\n",
    "    for i in range(K):\n",
    "        \n",
    "        neighbors.append(distances[i][0])\n",
    "    \n",
    "    return neighbors\n",
    "    ##### END OF CODE #####"
   ]
  },
  {
   "cell_type": "markdown",
   "metadata": {},
   "source": [
    "Now, you should make use of the `find_KKN` function to define the KNN classifier."
   ]
  },
  {
   "cell_type": "code",
   "execution_count": 52,
   "metadata": {},
   "outputs": [],
   "source": [
    "# KNN classification\n",
    "def KNN_classifier(x, train_data, train_labels,K,dist=eucl_dist):\n",
    "    # Input:\n",
    "    # x: test point\n",
    "    # train_data: training data X\n",
    "    # train_labels: training data labels y\n",
    "    # K: number of nearest neighbors considered\n",
    "    # dist: default to be the eucl_dist that you have defined above\n",
    "    # Output:\n",
    "    # the predicted label of the test point\n",
    "    \n",
    "    ##### STUDENT: Your code here #####\n",
    "   \n",
    "    #get the lowest K neighbors\n",
    "    neighbors = find_KNN(x, train_data, train_labels,K,dist)\n",
    "     \n",
    "    if K is 1:\n",
    "        # return the only label\n",
    "        return train_labels[neighbors[0]]\n",
    "    else:\n",
    "        #value will be teh amount of times an number appears by index\n",
    "        value = [0]*10\n",
    "        #find the max alue of an item\n",
    "        max =0;\n",
    "        index = 0;\n",
    "        #find the average of classification between K objects returned from find_KNN\n",
    "        for item in neighbors:\n",
    "            value[train_labels[item]]=value[train_labels[item]]+1\n",
    "        #find the number that appeared most often and return it\n",
    "        for i in range(10):\n",
    "            if value[i]>max:\n",
    "                max = value[i]\n",
    "                index = i\n",
    "        return index\n",
    "    ##### END OF CODE #####"
   ]
  },
  {
   "cell_type": "markdown",
   "metadata": {},
   "source": [
    "Now, let's examine how the code works for 1-NN (i.e., with K=1)."
   ]
  },
  {
   "cell_type": "code",
   "execution_count": 53,
   "metadata": {},
   "outputs": [],
   "source": [
    "## Define a function that takes an index into a particular data set (\"train\" or \"test\") and displays that image.\n",
    "def vis_image(index, dataset=\"train\"):\n",
    "    plt.axis('off')\n",
    "    if(dataset==\"train\"): \n",
    "        plt.imshow((train_data[index,]).reshape((28,28)), cmap=plt.cm.gray)\n",
    "        label = train_labels[index]\n",
    "    else:\n",
    "        plt.imshow((test_data[index,]).reshape((28,28)), cmap=plt.cm.gray)\n",
    "        label = test_labels[index]\n",
    "    plt.show()\n",
    "    print(\"Label \" + str(label))\n",
    "    return"
   ]
  },
  {
   "cell_type": "markdown",
   "metadata": {},
   "source": [
    "**Task P3: Find one example of success case and one example of failed case for 1-NN. Print the outputs and copy them to the problem set solution file.**"
   ]
  },
  {
   "cell_type": "code",
   "execution_count": null,
   "metadata": {
    "scrolled": true
   },
   "outputs": [
    {
     "name": "stdout",
     "output_type": "stream",
     "text": [
      "A success case:\n",
      "1-NN classification:  6\n",
      "True label:  6\n",
      "The test image:\n",
      "5\n"
     ]
    },
    {
     "data": {
      "image/png": "[encoded data removed]",
      "text/plain": [
       "<matplotlib.figure.Figure at 0x1e6956f6358>"
      ]
     },
     "metadata": {},
     "output_type": "display_data"
    },
    {
     "name": "stdout",
     "output_type": "stream",
     "text": [
      "Label 6\n",
      "The corresponding nearest neighbor image:\n"
     ]
    },
    {
     "data": {
      "image/png": "[encoded data removed]",
      "text/plain": [
       "<matplotlib.figure.Figure at 0x1e693343b00>"
      ]
     },
     "metadata": {},
     "output_type": "display_data"
    },
    {
     "name": "stdout",
     "output_type": "stream",
     "text": [
      "Label 6\n",
      "A failure case:\n",
      "NN classification:  9\n",
      "True label:  3\n",
      "The test image:\n"
     ]
    },
    {
     "data": {
      "image/png": "[encoded data removed]",
      "text/plain": [
       "<matplotlib.figure.Figure at 0x1e69336f668>"
      ]
     },
     "metadata": {},
     "output_type": "display_data"
    },
    {
     "name": "stdout",
     "output_type": "stream",
     "text": [
      "Label 3\n",
      "The corresponding nearest neighbor image:\n"
     ]
    },
    {
     "data": {
      "image/png": "[encoded data removed]",
      "text/plain": [
       "<matplotlib.figure.Figure at 0x1e69336fa90>"
      ]
     },
     "metadata": {},
     "output_type": "display_data"
    },
    {
     "name": "stdout",
     "output_type": "stream",
     "text": [
      "Label 9\n"
     ]
    }
   ],
   "source": [
    "## A success case:\n",
    "ind_success =  5 ### STUDENT: put one index of a success case here\n",
    "#print(type(ind_success))\n",
    "print(\"A success case:\")\n",
    "print(\"1-NN classification: \", KNN_classifier(test_data[ind_success,],train_data,train_labels,1,eucl_dist))\n",
    "print(\"True label: \", test_labels[ind_success])\n",
    "print(\"The test image:\")\n",
    "print(ind_success)\n",
    "vis_image(ind_success, \"test\")\n",
    "print(\"The corresponding nearest neighbor image:\")\n",
    "vis_image(find_KNN(test_data[ind_success,],train_data,train_labels,1,eucl_dist)[0], \"train\")\n",
    "\n",
    "## A failure case:\n",
    "ind_fail =  24 ### STUDENT: put one index of a failued case here\n",
    "print(\"A failure case:\")\n",
    "print(\"NN classification: \", KNN_classifier(test_data[ind_fail,],train_data,train_labels,1,eucl_dist))\n",
    "print(\"True label: \", test_labels[ind_fail])\n",
    "print(\"The test image:\")\n",
    "vis_image(ind_fail, \"test\")\n",
    "print(\"The corresponding nearest neighbor image:\")\n",
    "vis_image(find_KNN(test_data[ind_fail,],train_data,train_labels,1,eucl_dist)[0], \"train\")"
   ]
  },
  {
   "cell_type": "markdown",
   "metadata": {},
   "source": [
    "Now let's apply our K-nearest neighbor classifier over the full data set with `K=3`. \n",
    "\n",
    "Note that to classify each test point, our code takes a full pass over each of the 2000 training examples. The following code takes about 8 seconds on 3.3 GHz Intel Core i. \n",
    "\n",
    "**Task P4: Report the outputs of the following code and copy them to the problem set solution file.**"
   ]
  },
  {
   "cell_type": "code",
   "execution_count": null,
   "metadata": {},
   "outputs": [
    {
     "name": "stderr",
     "output_type": "stream",
     "text": [
      "  2% |#                                                                       |\r"
     ]
    }
   ],
   "source": [
    "## Predict on each test data point (and time it!)\n",
    "pbar = ProgressBar() # to show progress\n",
    "t_before = time.time()\n",
    "test_predictions = np.zeros(len(test_labels))\n",
    "for i in pbar(range(len(test_labels))):   \n",
    "    test_predictions[i] = KNN_classifier(test_data[i,],train_data,train_labels,1,eucl_dist)\n",
    "    \n",
    "t_after = time.time()\n",
    "\n",
    "## Compute the error\n",
    "err_positions = np.not_equal(test_predictions, test_labels)\n",
    "error = float(np.sum(err_positions))/len(test_labels)\n",
    "\n",
    "print(\"Error of nearest neighbor classifier with Euclidean distance: \", error)\n",
    "print(\"Classification time (seconds) with Euclidean distance: \", t_after - t_before)"
   ]
  },
  {
   "cell_type": "markdown",
   "metadata": {},
   "source": [
    "## 3. Different distance metrics\n",
    "\n",
    "So far, we have been using the Euclidean distance. In this section, let's try the Manhattan distance. You will also design a distance function and report the results.\n",
    "\n",
    "Recall that the Manhattan distance (a.k.a. $\\ell_1$-norm) is given by:\n",
    "$$\\|x - y\\|_1 = {\\sum_{i=1}^d |x_i - y_i|}.$$\n",
    "\n",
    "**Task P5: Complete the definition of `manh_dist` and report the outputs of the following code and copy them to the problem set solution file.**"
   ]
  },
  {
   "cell_type": "code",
   "execution_count": 31,
   "metadata": {},
   "outputs": [
    {
     "name": "stderr",
     "output_type": "stream",
     "text": [
      "  0% |                                                                        |\r"
     ]
    },
    {
     "name": "stdout",
     "output_type": "stream",
     "text": [
      "Classifier\n",
      "Find KNN\n",
      "Classifier\n",
      "Find KNN\n",
      "Classifier\n",
      "Find KNN\n",
      "Classifier\n",
      "Find KNN\n",
      "Classifier\n",
      "Find KNN\n"
     ]
    },
    {
     "name": "stderr",
     "output_type": "stream",
     "text": [
      "  1% |                                                                        |\r"
     ]
    },
    {
     "name": "stdout",
     "output_type": "stream",
     "text": [
      "Classifier\n",
      "Find KNN\n",
      "Classifier\n",
      "Find KNN\n",
      "Classifier\n",
      "Find KNN\n",
      "Classifier\n",
      "Find KNN\n",
      "Classifier\n",
      "Find KNN\n"
     ]
    },
    {
     "name": "stderr",
     "output_type": "stream",
     "text": [
      "  2% |#                                                                       |\r"
     ]
    },
    {
     "name": "stdout",
     "output_type": "stream",
     "text": [
      "Classifier\n",
      "Find KNN\n",
      "Classifier\n",
      "Find KNN\n",
      "Classifier\n",
      "Find KNN\n",
      "Classifier\n",
      "Find KNN\n",
      "Classifier\n",
      "Find KNN\n"
     ]
    },
    {
     "name": "stderr",
     "output_type": "stream",
     "text": [
      "  3% |##                                                                      |\r"
     ]
    },
    {
     "name": "stdout",
     "output_type": "stream",
     "text": [
      "Classifier\n",
      "Find KNN\n",
      "Classifier\n",
      "Find KNN\n",
      "Classifier\n",
      "Find KNN\n",
      "Classifier\n",
      "Find KNN\n",
      "Classifier\n",
      "Find KNN\n"
     ]
    },
    {
     "name": "stderr",
     "output_type": "stream",
     "text": [
      "  4% |##                                                                      |\r"
     ]
    },
    {
     "name": "stdout",
     "output_type": "stream",
     "text": [
      "Classifier\n",
      "Find KNN\n",
      "Classifier\n",
      "Find KNN\n",
      "Classifier\n",
      "Find KNN\n",
      "Classifier\n",
      "Find KNN\n",
      "Classifier\n",
      "Find KNN\n"
     ]
    },
    {
     "name": "stderr",
     "output_type": "stream",
     "text": [
      "  5% |###                                                                     |\r"
     ]
    },
    {
     "name": "stdout",
     "output_type": "stream",
     "text": [
      "Classifier\n",
      "Find KNN\n",
      "Classifier\n",
      "Find KNN\n",
      "Classifier\n",
      "Find KNN\n",
      "Classifier\n",
      "Find KNN\n",
      "Classifier\n",
      "Find KNN\n"
     ]
    },
    {
     "name": "stderr",
     "output_type": "stream",
     "text": [
      "  6% |####                                                                    |\r"
     ]
    },
    {
     "name": "stdout",
     "output_type": "stream",
     "text": [
      "Classifier\n",
      "Find KNN\n",
      "Classifier\n",
      "Find KNN\n",
      "Classifier\n",
      "Find KNN\n",
      "Classifier\n",
      "Find KNN\n",
      "Classifier\n",
      "Find KNN\n"
     ]
    },
    {
     "name": "stderr",
     "output_type": "stream",
     "text": [
      "  7% |#####                                                                   |\r"
     ]
    },
    {
     "name": "stdout",
     "output_type": "stream",
     "text": [
      "Classifier\n",
      "Find KNN\n",
      "Classifier\n",
      "Find KNN\n",
      "Classifier\n",
      "Find KNN\n",
      "Classifier\n",
      "Find KNN\n",
      "Classifier\n",
      "Find KNN\n"
     ]
    },
    {
     "name": "stderr",
     "output_type": "stream",
     "text": [
      "  8% |#####                                                                   |\r"
     ]
    },
    {
     "name": "stdout",
     "output_type": "stream",
     "text": [
      "Classifier\n",
      "Find KNN\n",
      "Classifier\n",
      "Find KNN\n",
      "Classifier\n",
      "Find KNN\n",
      "Classifier\n",
      "Find KNN\n",
      "Classifier\n",
      "Find KNN\n"
     ]
    },
    {
     "name": "stderr",
     "output_type": "stream",
     "text": [
      "  9% |######                                                                  |\r"
     ]
    },
    {
     "name": "stdout",
     "output_type": "stream",
     "text": [
      "Classifier\n",
      "Find KNN\n",
      "Classifier\n",
      "Find KNN\n",
      "Classifier\n",
      "Find KNN\n",
      "Classifier\n",
      "Find KNN\n",
      "Classifier\n",
      "Find KNN\n"
     ]
    },
    {
     "name": "stderr",
     "output_type": "stream",
     "text": [
      " 10% |#######                                                                 |\r"
     ]
    },
    {
     "name": "stdout",
     "output_type": "stream",
     "text": [
      "Classifier\n",
      "Find KNN\n",
      "Classifier\n",
      "Find KNN\n",
      "Classifier\n",
      "Find KNN\n",
      "Classifier\n",
      "Find KNN\n",
      "Classifier\n",
      "Find KNN\n"
     ]
    },
    {
     "name": "stderr",
     "output_type": "stream",
     "text": [
      " 11% |#######                                                                 |\r"
     ]
    },
    {
     "name": "stdout",
     "output_type": "stream",
     "text": [
      "Classifier\n",
      "Find KNN\n",
      "Classifier\n",
      "Find KNN\n",
      "Classifier\n",
      "Find KNN\n",
      "Classifier\n",
      "Find KNN\n",
      "Classifier\n",
      "Find KNN\n"
     ]
    },
    {
     "name": "stderr",
     "output_type": "stream",
     "text": [
      " 12% |########                                                                |\r"
     ]
    },
    {
     "name": "stdout",
     "output_type": "stream",
     "text": [
      "Classifier\n",
      "Find KNN\n",
      "Classifier\n",
      "Find KNN\n",
      "Classifier\n",
      "Find KNN\n",
      "Classifier\n",
      "Find KNN\n",
      "Classifier\n",
      "Find KNN\n"
     ]
    },
    {
     "name": "stderr",
     "output_type": "stream",
     "text": [
      " 13% |#########                                                               |\r"
     ]
    },
    {
     "name": "stdout",
     "output_type": "stream",
     "text": [
      "Classifier\n",
      "Find KNN\n",
      "Classifier\n",
      "Find KNN\n",
      "Classifier\n",
      "Find KNN\n",
      "Classifier\n",
      "Find KNN\n",
      "Classifier\n",
      "Find KNN\n"
     ]
    },
    {
     "name": "stderr",
     "output_type": "stream",
     "text": [
      " 14% |##########                                                              |\r"
     ]
    },
    {
     "name": "stdout",
     "output_type": "stream",
     "text": [
      "Classifier\n",
      "Find KNN\n",
      "Classifier\n",
      "Find KNN\n",
      "Classifier\n",
      "Find KNN\n",
      "Classifier\n",
      "Find KNN\n",
      "Classifier\n",
      "Find KNN\n"
     ]
    },
    {
     "name": "stderr",
     "output_type": "stream",
     "text": [
      " 15% |##########                                                              |\r"
     ]
    },
    {
     "name": "stdout",
     "output_type": "stream",
     "text": [
      "Classifier\n",
      "Find KNN\n",
      "Classifier\n",
      "Find KNN\n",
      "Classifier\n",
      "Find KNN\n",
      "Classifier\n",
      "Find KNN\n",
      "Classifier\n",
      "Find KNN\n"
     ]
    },
    {
     "name": "stderr",
     "output_type": "stream",
     "text": [
      " 16% |###########                                                             |\r"
     ]
    },
    {
     "name": "stdout",
     "output_type": "stream",
     "text": [
      "Classifier\n",
      "Find KNN\n",
      "Classifier\n",
      "Find KNN\n",
      "Classifier\n",
      "Find KNN\n",
      "Classifier\n",
      "Find KNN\n",
      "Classifier\n",
      "Find KNN\n"
     ]
    },
    {
     "name": "stderr",
     "output_type": "stream",
     "text": [
      " 17% |############                                                            |\r"
     ]
    },
    {
     "name": "stdout",
     "output_type": "stream",
     "text": [
      "Classifier\n",
      "Find KNN\n",
      "Classifier\n",
      "Find KNN\n",
      "Classifier\n",
      "Find KNN\n",
      "Classifier\n",
      "Find KNN\n",
      "Classifier\n",
      "Find KNN\n"
     ]
    },
    {
     "name": "stderr",
     "output_type": "stream",
     "text": [
      " 18% |############                                                            |\r"
     ]
    },
    {
     "name": "stdout",
     "output_type": "stream",
     "text": [
      "Classifier\n",
      "Find KNN\n",
      "Classifier\n",
      "Find KNN\n",
      "Classifier\n",
      "Find KNN\n",
      "Classifier\n",
      "Find KNN\n",
      "Classifier\n",
      "Find KNN\n"
     ]
    },
    {
     "name": "stderr",
     "output_type": "stream",
     "text": [
      " 19% |#############                                                           |\r"
     ]
    },
    {
     "name": "stdout",
     "output_type": "stream",
     "text": [
      "Classifier\n",
      "Find KNN\n",
      "Classifier\n",
      "Find KNN\n",
      "Classifier\n",
      "Find KNN\n",
      "Classifier\n",
      "Find KNN\n",
      "Classifier\n",
      "Find KNN\n"
     ]
    },
    {
     "name": "stderr",
     "output_type": "stream",
     "text": [
      " 20% |##############                                                          |\r"
     ]
    },
    {
     "name": "stdout",
     "output_type": "stream",
     "text": [
      "Classifier\n",
      "Find KNN\n",
      "Classifier\n",
      "Find KNN\n",
      "Classifier\n",
      "Find KNN\n",
      "Classifier\n",
      "Find KNN\n",
      "Classifier\n",
      "Find KNN\n"
     ]
    },
    {
     "name": "stderr",
     "output_type": "stream",
     "text": [
      " 21% |###############                                                         |\r"
     ]
    },
    {
     "name": "stdout",
     "output_type": "stream",
     "text": [
      "Classifier\n",
      "Find KNN\n",
      "Classifier\n",
      "Find KNN\n",
      "Classifier\n",
      "Find KNN\n",
      "Classifier\n",
      "Find KNN\n",
      "Classifier\n",
      "Find KNN\n"
     ]
    },
    {
     "name": "stderr",
     "output_type": "stream",
     "text": [
      " 22% |###############                                                         |\r"
     ]
    },
    {
     "name": "stdout",
     "output_type": "stream",
     "text": [
      "Classifier\n",
      "Find KNN\n",
      "Classifier\n",
      "Find KNN\n",
      "Classifier\n",
      "Find KNN\n",
      "Classifier\n",
      "Find KNN\n",
      "Classifier\n",
      "Find KNN\n"
     ]
    },
    {
     "name": "stderr",
     "output_type": "stream",
     "text": [
      " 23% |################                                                        |\r"
     ]
    },
    {
     "name": "stdout",
     "output_type": "stream",
     "text": [
      "Classifier\n",
      "Find KNN\n",
      "Classifier\n",
      "Find KNN\n",
      "Classifier\n",
      "Find KNN\n",
      "Classifier\n",
      "Find KNN\n",
      "Classifier\n",
      "Find KNN\n"
     ]
    },
    {
     "name": "stderr",
     "output_type": "stream",
     "text": [
      " 24% |#################                                                       |\r"
     ]
    },
    {
     "name": "stdout",
     "output_type": "stream",
     "text": [
      "Classifier\n",
      "Find KNN\n",
      "Classifier\n",
      "Find KNN\n",
      "Classifier\n",
      "Find KNN\n",
      "Classifier\n",
      "Find KNN\n",
      "Classifier\n",
      "Find KNN\n"
     ]
    },
    {
     "name": "stderr",
     "output_type": "stream",
     "text": [
      " 25% |##################                                                      |\r"
     ]
    },
    {
     "name": "stdout",
     "output_type": "stream",
     "text": [
      "Classifier\n",
      "Find KNN\n",
      "Classifier\n",
      "Find KNN\n",
      "Classifier\n",
      "Find KNN\n",
      "Classifier\n",
      "Find KNN\n",
      "Classifier\n",
      "Find KNN\n"
     ]
    },
    {
     "name": "stderr",
     "output_type": "stream",
     "text": [
      " 26% |##################                                                      |\r"
     ]
    },
    {
     "name": "stdout",
     "output_type": "stream",
     "text": [
      "Classifier\n",
      "Find KNN\n",
      "Classifier\n",
      "Find KNN\n",
      "Classifier\n",
      "Find KNN\n",
      "Classifier\n",
      "Find KNN\n",
      "Classifier\n",
      "Find KNN\n"
     ]
    },
    {
     "name": "stderr",
     "output_type": "stream",
     "text": [
      " 27% |###################                                                     |\r"
     ]
    },
    {
     "name": "stdout",
     "output_type": "stream",
     "text": [
      "Classifier\n",
      "Find KNN\n",
      "Classifier\n",
      "Find KNN\n",
      "Classifier\n",
      "Find KNN\n",
      "Classifier\n",
      "Find KNN\n",
      "Classifier\n",
      "Find KNN\n"
     ]
    },
    {
     "name": "stderr",
     "output_type": "stream",
     "text": [
      " 28% |####################                                                    |\r"
     ]
    },
    {
     "name": "stdout",
     "output_type": "stream",
     "text": [
      "Classifier\n",
      "Find KNN\n",
      "Classifier\n",
      "Find KNN\n",
      "Classifier\n",
      "Find KNN\n",
      "Classifier\n",
      "Find KNN\n",
      "Classifier\n",
      "Find KNN\n"
     ]
    },
    {
     "name": "stderr",
     "output_type": "stream",
     "text": [
      " 29% |####################                                                    |\r"
     ]
    },
    {
     "name": "stdout",
     "output_type": "stream",
     "text": [
      "Classifier\n",
      "Find KNN\n",
      "Classifier\n",
      "Find KNN\n",
      "Classifier\n",
      "Find KNN\n",
      "Classifier\n",
      "Find KNN\n",
      "Classifier\n",
      "Find KNN\n"
     ]
    },
    {
     "name": "stderr",
     "output_type": "stream",
     "text": [
      " 30% |#####################                                                   |\r"
     ]
    },
    {
     "name": "stdout",
     "output_type": "stream",
     "text": [
      "Classifier\n",
      "Find KNN\n",
      "Classifier\n",
      "Find KNN\n",
      "Classifier\n",
      "Find KNN\n",
      "Classifier\n",
      "Find KNN\n",
      "Classifier\n",
      "Find KNN\n"
     ]
    },
    {
     "name": "stderr",
     "output_type": "stream",
     "text": [
      " 31% |######################                                                  |\r"
     ]
    },
    {
     "name": "stdout",
     "output_type": "stream",
     "text": [
      "Classifier\n",
      "Find KNN\n",
      "Classifier\n",
      "Find KNN\n",
      "Classifier\n",
      "Find KNN\n",
      "Classifier\n",
      "Find KNN\n",
      "Classifier\n",
      "Find KNN\n"
     ]
    },
    {
     "name": "stderr",
     "output_type": "stream",
     "text": [
      " 32% |#######################                                                 |\r"
     ]
    },
    {
     "name": "stdout",
     "output_type": "stream",
     "text": [
      "Classifier\n",
      "Find KNN\n",
      "Classifier\n",
      "Find KNN\n",
      "Classifier\n",
      "Find KNN\n",
      "Classifier\n",
      "Find KNN\n",
      "Classifier\n",
      "Find KNN\n"
     ]
    },
    {
     "name": "stderr",
     "output_type": "stream",
     "text": [
      " 33% |#######################                                                 |\r"
     ]
    },
    {
     "name": "stdout",
     "output_type": "stream",
     "text": [
      "Classifier\n",
      "Find KNN\n",
      "Classifier\n",
      "Find KNN\n",
      "Classifier\n",
      "Find KNN\n",
      "Classifier\n",
      "Find KNN\n",
      "Classifier\n",
      "Find KNN\n"
     ]
    },
    {
     "name": "stderr",
     "output_type": "stream",
     "text": [
      " 34% |########################                                                |\r"
     ]
    },
    {
     "name": "stdout",
     "output_type": "stream",
     "text": [
      "Classifier\n",
      "Find KNN\n",
      "Classifier\n",
      "Find KNN\n",
      "Classifier\n",
      "Find KNN\n",
      "Classifier\n",
      "Find KNN\n",
      "Classifier\n",
      "Find KNN\n"
     ]
    },
    {
     "name": "stderr",
     "output_type": "stream",
     "text": [
      " 35% |#########################                                               |\r"
     ]
    },
    {
     "name": "stdout",
     "output_type": "stream",
     "text": [
      "Classifier\n",
      "Find KNN\n",
      "Classifier\n",
      "Find KNN\n",
      "Classifier\n",
      "Find KNN\n",
      "Classifier\n",
      "Find KNN\n",
      "Classifier\n",
      "Find KNN\n"
     ]
    },
    {
     "name": "stderr",
     "output_type": "stream",
     "text": [
      " 36% |#########################                                               |\r"
     ]
    },
    {
     "name": "stdout",
     "output_type": "stream",
     "text": [
      "Classifier\n",
      "Find KNN\n",
      "Classifier\n",
      "Find KNN\n",
      "Classifier\n",
      "Find KNN\n",
      "Classifier\n",
      "Find KNN\n",
      "Classifier\n",
      "Find KNN\n"
     ]
    },
    {
     "name": "stderr",
     "output_type": "stream",
     "text": [
      " 37% |##########################                                              |\r"
     ]
    },
    {
     "name": "stdout",
     "output_type": "stream",
     "text": [
      "Classifier\n",
      "Find KNN\n",
      "Classifier\n",
      "Find KNN\n",
      "Classifier\n",
      "Find KNN\n",
      "Classifier\n",
      "Find KNN\n",
      "Classifier\n",
      "Find KNN\n"
     ]
    },
    {
     "name": "stderr",
     "output_type": "stream",
     "text": [
      " 38% |###########################                                             |\r"
     ]
    },
    {
     "name": "stdout",
     "output_type": "stream",
     "text": [
      "Classifier\n",
      "Find KNN\n",
      "Classifier\n",
      "Find KNN\n",
      "Classifier\n",
      "Find KNN\n",
      "Classifier\n",
      "Find KNN\n",
      "Classifier\n",
      "Find KNN\n"
     ]
    },
    {
     "name": "stderr",
     "output_type": "stream",
     "text": [
      " 39% |############################                                            |\r"
     ]
    },
    {
     "name": "stdout",
     "output_type": "stream",
     "text": [
      "Classifier\n",
      "Find KNN\n",
      "Classifier\n",
      "Find KNN\n",
      "Classifier\n",
      "Find KNN\n",
      "Classifier\n",
      "Find KNN\n",
      "Classifier\n",
      "Find KNN\n"
     ]
    },
    {
     "name": "stderr",
     "output_type": "stream",
     "text": [
      " 40% |############################                                            |\r"
     ]
    },
    {
     "name": "stdout",
     "output_type": "stream",
     "text": [
      "Classifier\n",
      "Find KNN\n",
      "Classifier\n",
      "Find KNN\n",
      "Classifier\n",
      "Find KNN\n",
      "Classifier\n",
      "Find KNN\n",
      "Classifier\n",
      "Find KNN\n"
     ]
    },
    {
     "name": "stderr",
     "output_type": "stream",
     "text": [
      " 41% |#############################                                           |\r"
     ]
    },
    {
     "name": "stdout",
     "output_type": "stream",
     "text": [
      "Classifier\n",
      "Find KNN\n",
      "Classifier\n",
      "Find KNN\n",
      "Classifier\n",
      "Find KNN\n",
      "Classifier\n",
      "Find KNN\n",
      "Classifier\n",
      "Find KNN\n"
     ]
    },
    {
     "name": "stderr",
     "output_type": "stream",
     "text": [
      " 42% |##############################                                          |\r"
     ]
    },
    {
     "name": "stdout",
     "output_type": "stream",
     "text": [
      "Classifier\n",
      "Find KNN\n",
      "Classifier\n",
      "Find KNN\n",
      "Classifier\n",
      "Find KNN\n",
      "Classifier\n",
      "Find KNN\n",
      "Classifier\n",
      "Find KNN\n"
     ]
    },
    {
     "name": "stderr",
     "output_type": "stream",
     "text": [
      " 43% |##############################                                          |\r"
     ]
    },
    {
     "name": "stdout",
     "output_type": "stream",
     "text": [
      "Classifier\n",
      "Find KNN\n",
      "Classifier\n",
      "Find KNN\n",
      "Classifier\n",
      "Find KNN\n",
      "Classifier\n",
      "Find KNN\n",
      "Classifier\n",
      "Find KNN\n"
     ]
    },
    {
     "name": "stderr",
     "output_type": "stream",
     "text": [
      " 44% |###############################                                         |\r"
     ]
    },
    {
     "name": "stdout",
     "output_type": "stream",
     "text": [
      "Classifier\n",
      "Find KNN\n",
      "Classifier\n",
      "Find KNN\n",
      "Classifier\n",
      "Find KNN\n",
      "Classifier\n",
      "Find KNN\n",
      "Classifier\n",
      "Find KNN\n"
     ]
    },
    {
     "name": "stderr",
     "output_type": "stream",
     "text": [
      " 45% |################################                                        |\r"
     ]
    },
    {
     "name": "stdout",
     "output_type": "stream",
     "text": [
      "Classifier\n",
      "Find KNN\n",
      "Classifier\n",
      "Find KNN\n",
      "Classifier\n",
      "Find KNN\n",
      "Classifier\n",
      "Find KNN\n",
      "Classifier\n",
      "Find KNN\n"
     ]
    },
    {
     "name": "stderr",
     "output_type": "stream",
     "text": [
      " 46% |#################################                                       |\r"
     ]
    },
    {
     "name": "stdout",
     "output_type": "stream",
     "text": [
      "Classifier\n",
      "Find KNN\n",
      "Classifier\n",
      "Find KNN\n",
      "Classifier\n",
      "Find KNN\n",
      "Classifier\n",
      "Find KNN\n",
      "Classifier\n",
      "Find KNN\n"
     ]
    },
    {
     "name": "stderr",
     "output_type": "stream",
     "text": [
      " 47% |#################################                                       |\r"
     ]
    },
    {
     "name": "stdout",
     "output_type": "stream",
     "text": [
      "Classifier\n",
      "Find KNN\n",
      "Classifier\n",
      "Find KNN\n",
      "Classifier\n",
      "Find KNN\n",
      "Classifier\n",
      "Find KNN\n",
      "Classifier\n",
      "Find KNN\n"
     ]
    },
    {
     "name": "stderr",
     "output_type": "stream",
     "text": [
      " 48% |##################################                                      |\r"
     ]
    },
    {
     "name": "stdout",
     "output_type": "stream",
     "text": [
      "Classifier\n",
      "Find KNN\n",
      "Classifier\n",
      "Find KNN\n",
      "Classifier\n",
      "Find KNN\n",
      "Classifier\n",
      "Find KNN\n",
      "Classifier\n",
      "Find KNN\n"
     ]
    },
    {
     "name": "stderr",
     "output_type": "stream",
     "text": [
      " 49% |###################################                                     |\r"
     ]
    },
    {
     "name": "stdout",
     "output_type": "stream",
     "text": [
      "Classifier\n",
      "Find KNN\n",
      "Classifier\n",
      "Find KNN\n",
      "Classifier\n",
      "Find KNN\n",
      "Classifier\n",
      "Find KNN\n",
      "Classifier\n",
      "Find KNN\n"
     ]
    },
    {
     "name": "stderr",
     "output_type": "stream",
     "text": [
      " 50% |####################################                                    |\r"
     ]
    },
    {
     "name": "stdout",
     "output_type": "stream",
     "text": [
      "Classifier\n",
      "Find KNN\n",
      "Classifier\n",
      "Find KNN\n",
      "Classifier\n",
      "Find KNN\n",
      "Classifier\n",
      "Find KNN\n",
      "Classifier\n",
      "Find KNN\n"
     ]
    },
    {
     "name": "stderr",
     "output_type": "stream",
     "text": [
      " 51% |####################################                                    |\r"
     ]
    },
    {
     "name": "stdout",
     "output_type": "stream",
     "text": [
      "Classifier\n",
      "Find KNN\n",
      "Classifier\n",
      "Find KNN\n",
      "Classifier\n",
      "Find KNN\n",
      "Classifier\n",
      "Find KNN\n",
      "Classifier\n",
      "Find KNN\n"
     ]
    },
    {
     "name": "stderr",
     "output_type": "stream",
     "text": [
      " 52% |#####################################                                   |\r"
     ]
    },
    {
     "name": "stdout",
     "output_type": "stream",
     "text": [
      "Classifier\n",
      "Find KNN\n",
      "Classifier\n",
      "Find KNN\n",
      "Classifier\n",
      "Find KNN\n",
      "Classifier\n",
      "Find KNN\n",
      "Classifier\n",
      "Find KNN\n"
     ]
    },
    {
     "name": "stderr",
     "output_type": "stream",
     "text": [
      " 53% |######################################                                  |\r"
     ]
    },
    {
     "name": "stdout",
     "output_type": "stream",
     "text": [
      "Classifier\n",
      "Find KNN\n",
      "Classifier\n",
      "Find KNN\n",
      "Classifier\n",
      "Find KNN\n",
      "Classifier\n",
      "Find KNN\n",
      "Classifier\n",
      "Find KNN\n"
     ]
    },
    {
     "name": "stderr",
     "output_type": "stream",
     "text": [
      " 54% |######################################                                  |\r"
     ]
    },
    {
     "name": "stdout",
     "output_type": "stream",
     "text": [
      "Classifier\n",
      "Find KNN\n",
      "Classifier\n",
      "Find KNN\n",
      "Classifier\n",
      "Find KNN\n",
      "Classifier\n",
      "Find KNN\n",
      "Classifier\n",
      "Find KNN\n"
     ]
    },
    {
     "name": "stderr",
     "output_type": "stream",
     "text": [
      " 55% |#######################################                                 |\r"
     ]
    },
    {
     "name": "stdout",
     "output_type": "stream",
     "text": [
      "Classifier\n",
      "Find KNN\n",
      "Classifier\n",
      "Find KNN\n",
      "Classifier\n",
      "Find KNN\n",
      "Classifier\n",
      "Find KNN\n",
      "Classifier\n",
      "Find KNN\n"
     ]
    },
    {
     "name": "stderr",
     "output_type": "stream",
     "text": [
      " 56% |########################################                                |\r"
     ]
    },
    {
     "name": "stdout",
     "output_type": "stream",
     "text": [
      "Classifier\n",
      "Find KNN\n",
      "Classifier\n",
      "Find KNN\n",
      "Classifier\n",
      "Find KNN\n",
      "Classifier\n",
      "Find KNN\n",
      "Classifier\n",
      "Find KNN\n"
     ]
    },
    {
     "name": "stderr",
     "output_type": "stream",
     "text": [
      " 57% |#########################################                               |\r"
     ]
    },
    {
     "name": "stdout",
     "output_type": "stream",
     "text": [
      "Classifier\n",
      "Find KNN\n",
      "Classifier\n",
      "Find KNN\n",
      "Classifier\n",
      "Find KNN\n",
      "Classifier\n",
      "Find KNN\n",
      "Classifier\n",
      "Find KNN\n"
     ]
    },
    {
     "name": "stderr",
     "output_type": "stream",
     "text": [
      " 58% |#########################################                               |\r"
     ]
    },
    {
     "name": "stdout",
     "output_type": "stream",
     "text": [
      "Classifier\n",
      "Find KNN\n",
      "Classifier\n",
      "Find KNN\n",
      "Classifier\n",
      "Find KNN\n",
      "Classifier\n",
      "Find KNN\n",
      "Classifier\n",
      "Find KNN\n"
     ]
    },
    {
     "name": "stderr",
     "output_type": "stream",
     "text": [
      " 59% |##########################################                              |\r"
     ]
    },
    {
     "name": "stdout",
     "output_type": "stream",
     "text": [
      "Classifier\n",
      "Find KNN\n",
      "Classifier\n",
      "Find KNN\n",
      "Classifier\n",
      "Find KNN\n",
      "Classifier\n",
      "Find KNN\n",
      "Classifier\n",
      "Find KNN\n"
     ]
    },
    {
     "name": "stderr",
     "output_type": "stream",
     "text": [
      " 60% |###########################################                             |\r"
     ]
    },
    {
     "name": "stdout",
     "output_type": "stream",
     "text": [
      "Classifier\n",
      "Find KNN\n",
      "Classifier\n",
      "Find KNN\n",
      "Classifier\n",
      "Find KNN\n",
      "Classifier\n",
      "Find KNN\n",
      "Classifier\n",
      "Find KNN\n"
     ]
    },
    {
     "name": "stderr",
     "output_type": "stream",
     "text": [
      " 61% |###########################################                             |\r"
     ]
    },
    {
     "name": "stdout",
     "output_type": "stream",
     "text": [
      "Classifier\n",
      "Find KNN\n",
      "Classifier\n",
      "Find KNN\n",
      "Classifier\n",
      "Find KNN\n",
      "Classifier\n",
      "Find KNN\n",
      "Classifier\n",
      "Find KNN\n"
     ]
    },
    {
     "name": "stderr",
     "output_type": "stream",
     "text": [
      " 62% |############################################                            |\r"
     ]
    },
    {
     "name": "stdout",
     "output_type": "stream",
     "text": [
      "Classifier\n",
      "Find KNN\n",
      "Classifier\n",
      "Find KNN\n",
      "Classifier\n",
      "Find KNN\n",
      "Classifier\n",
      "Find KNN\n",
      "Classifier\n",
      "Find KNN\n"
     ]
    },
    {
     "name": "stderr",
     "output_type": "stream",
     "text": [
      " 63% |#############################################                           |\r"
     ]
    },
    {
     "name": "stdout",
     "output_type": "stream",
     "text": [
      "Classifier\n",
      "Find KNN\n",
      "Classifier\n",
      "Find KNN\n",
      "Classifier\n",
      "Find KNN\n",
      "Classifier\n",
      "Find KNN\n",
      "Classifier\n",
      "Find KNN\n"
     ]
    },
    {
     "name": "stderr",
     "output_type": "stream",
     "text": [
      " 64% |##############################################                          |\r"
     ]
    },
    {
     "name": "stdout",
     "output_type": "stream",
     "text": [
      "Classifier\n",
      "Find KNN\n",
      "Classifier\n",
      "Find KNN\n",
      "Classifier\n",
      "Find KNN\n",
      "Classifier\n",
      "Find KNN\n",
      "Classifier\n",
      "Find KNN\n"
     ]
    },
    {
     "name": "stderr",
     "output_type": "stream",
     "text": [
      " 65% |##############################################                          |\r"
     ]
    },
    {
     "name": "stdout",
     "output_type": "stream",
     "text": [
      "Classifier\n",
      "Find KNN\n",
      "Classifier\n",
      "Find KNN\n",
      "Classifier\n",
      "Find KNN\n",
      "Classifier\n",
      "Find KNN\n",
      "Classifier\n",
      "Find KNN\n"
     ]
    },
    {
     "name": "stderr",
     "output_type": "stream",
     "text": [
      " 66% |###############################################                         |\r"
     ]
    },
    {
     "name": "stdout",
     "output_type": "stream",
     "text": [
      "Classifier\n",
      "Find KNN\n",
      "Classifier\n",
      "Find KNN\n",
      "Classifier\n",
      "Find KNN\n",
      "Classifier\n",
      "Find KNN\n",
      "Classifier\n",
      "Find KNN\n"
     ]
    },
    {
     "name": "stderr",
     "output_type": "stream",
     "text": [
      " 67% |################################################                        |\r"
     ]
    },
    {
     "name": "stdout",
     "output_type": "stream",
     "text": [
      "Classifier\n",
      "Find KNN\n",
      "Classifier\n",
      "Find KNN\n",
      "Classifier\n",
      "Find KNN\n",
      "Classifier\n",
      "Find KNN\n",
      "Classifier\n",
      "Find KNN\n"
     ]
    },
    {
     "name": "stderr",
     "output_type": "stream",
     "text": [
      " 68% |################################################                        |\r"
     ]
    },
    {
     "name": "stdout",
     "output_type": "stream",
     "text": [
      "Classifier\n",
      "Find KNN\n",
      "Classifier\n",
      "Find KNN\n",
      "Classifier\n",
      "Find KNN\n",
      "Classifier\n",
      "Find KNN\n",
      "Classifier\n",
      "Find KNN\n"
     ]
    },
    {
     "name": "stderr",
     "output_type": "stream",
     "text": [
      " 69% |#################################################                       |\r"
     ]
    },
    {
     "name": "stdout",
     "output_type": "stream",
     "text": [
      "Classifier\n",
      "Find KNN\n",
      "Classifier\n",
      "Find KNN\n",
      "Classifier\n",
      "Find KNN\n",
      "Classifier\n",
      "Find KNN\n",
      "Classifier\n",
      "Find KNN\n"
     ]
    },
    {
     "name": "stderr",
     "output_type": "stream",
     "text": [
      " 70% |##################################################                      |\r"
     ]
    },
    {
     "name": "stdout",
     "output_type": "stream",
     "text": [
      "Classifier\n",
      "Find KNN\n",
      "Classifier\n",
      "Find KNN\n",
      "Classifier\n",
      "Find KNN\n",
      "Classifier\n",
      "Find KNN\n",
      "Classifier\n",
      "Find KNN\n"
     ]
    },
    {
     "name": "stderr",
     "output_type": "stream",
     "text": [
      " 71% |###################################################                     |\r"
     ]
    },
    {
     "name": "stdout",
     "output_type": "stream",
     "text": [
      "Classifier\n",
      "Find KNN\n",
      "Classifier\n",
      "Find KNN\n",
      "Classifier\n",
      "Find KNN\n",
      "Classifier\n",
      "Find KNN\n",
      "Classifier\n",
      "Find KNN\n"
     ]
    },
    {
     "name": "stderr",
     "output_type": "stream",
     "text": [
      " 72% |###################################################                     |\r"
     ]
    },
    {
     "name": "stdout",
     "output_type": "stream",
     "text": [
      "Classifier\n",
      "Find KNN\n",
      "Classifier\n",
      "Find KNN\n",
      "Classifier\n",
      "Find KNN\n",
      "Classifier\n",
      "Find KNN\n",
      "Classifier\n",
      "Find KNN\n"
     ]
    },
    {
     "name": "stderr",
     "output_type": "stream",
     "text": [
      " 73% |####################################################                    |\r"
     ]
    },
    {
     "name": "stdout",
     "output_type": "stream",
     "text": [
      "Classifier\n",
      "Find KNN\n",
      "Classifier\n",
      "Find KNN\n",
      "Classifier\n",
      "Find KNN\n",
      "Classifier\n",
      "Find KNN\n",
      "Classifier\n",
      "Find KNN\n"
     ]
    },
    {
     "name": "stderr",
     "output_type": "stream",
     "text": [
      " 74% |#####################################################                   |\r"
     ]
    },
    {
     "name": "stdout",
     "output_type": "stream",
     "text": [
      "Classifier\n",
      "Find KNN\n",
      "Classifier\n",
      "Find KNN\n",
      "Classifier\n",
      "Find KNN\n",
      "Classifier\n",
      "Find KNN\n",
      "Classifier\n",
      "Find KNN\n"
     ]
    },
    {
     "name": "stderr",
     "output_type": "stream",
     "text": [
      " 75% |######################################################                  |\r"
     ]
    },
    {
     "name": "stdout",
     "output_type": "stream",
     "text": [
      "Classifier\n",
      "Find KNN\n",
      "Classifier\n",
      "Find KNN\n",
      "Classifier\n",
      "Find KNN\n",
      "Classifier\n",
      "Find KNN\n",
      "Classifier\n",
      "Find KNN\n"
     ]
    },
    {
     "name": "stderr",
     "output_type": "stream",
     "text": [
      " 76% |######################################################                  |\r"
     ]
    },
    {
     "name": "stdout",
     "output_type": "stream",
     "text": [
      "Classifier\n",
      "Find KNN\n",
      "Classifier\n",
      "Find KNN\n",
      "Classifier\n",
      "Find KNN\n",
      "Classifier\n",
      "Find KNN\n",
      "Classifier\n",
      "Find KNN\n"
     ]
    },
    {
     "name": "stderr",
     "output_type": "stream",
     "text": [
      " 77% |#######################################################                 |\r"
     ]
    },
    {
     "name": "stdout",
     "output_type": "stream",
     "text": [
      "Classifier\n",
      "Find KNN\n",
      "Classifier\n",
      "Find KNN\n",
      "Classifier\n",
      "Find KNN\n",
      "Classifier\n",
      "Find KNN\n",
      "Classifier\n",
      "Find KNN\n"
     ]
    },
    {
     "name": "stderr",
     "output_type": "stream",
     "text": [
      " 78% |########################################################                |\r"
     ]
    },
    {
     "name": "stdout",
     "output_type": "stream",
     "text": [
      "Classifier\n",
      "Find KNN\n",
      "Classifier\n",
      "Find KNN\n",
      "Classifier\n",
      "Find KNN\n",
      "Classifier\n",
      "Find KNN\n",
      "Classifier\n",
      "Find KNN\n"
     ]
    },
    {
     "name": "stderr",
     "output_type": "stream",
     "text": [
      " 79% |########################################################                |\r"
     ]
    },
    {
     "name": "stdout",
     "output_type": "stream",
     "text": [
      "Classifier\n",
      "Find KNN\n",
      "Classifier\n",
      "Find KNN\n",
      "Classifier\n",
      "Find KNN\n",
      "Classifier\n",
      "Find KNN\n",
      "Classifier\n",
      "Find KNN\n"
     ]
    },
    {
     "name": "stderr",
     "output_type": "stream",
     "text": [
      " 80% |#########################################################               |\r"
     ]
    },
    {
     "name": "stdout",
     "output_type": "stream",
     "text": [
      "Classifier\n",
      "Find KNN\n",
      "Classifier\n",
      "Find KNN\n",
      "Classifier\n",
      "Find KNN\n",
      "Classifier\n",
      "Find KNN\n",
      "Classifier\n",
      "Find KNN\n"
     ]
    },
    {
     "name": "stderr",
     "output_type": "stream",
     "text": [
      " 81% |##########################################################              |\r"
     ]
    },
    {
     "name": "stdout",
     "output_type": "stream",
     "text": [
      "Classifier\n",
      "Find KNN\n",
      "Classifier\n",
      "Find KNN\n",
      "Classifier\n",
      "Find KNN\n",
      "Classifier\n",
      "Find KNN\n",
      "Classifier\n",
      "Find KNN\n"
     ]
    },
    {
     "name": "stderr",
     "output_type": "stream",
     "text": [
      " 82% |###########################################################             |\r"
     ]
    },
    {
     "name": "stdout",
     "output_type": "stream",
     "text": [
      "Classifier\n",
      "Find KNN\n",
      "Classifier\n",
      "Find KNN\n",
      "Classifier\n",
      "Find KNN\n",
      "Classifier\n",
      "Find KNN\n",
      "Classifier\n",
      "Find KNN\n"
     ]
    },
    {
     "name": "stderr",
     "output_type": "stream",
     "text": [
      " 83% |###########################################################             |\r"
     ]
    },
    {
     "name": "stdout",
     "output_type": "stream",
     "text": [
      "Classifier\n",
      "Find KNN\n",
      "Classifier\n",
      "Find KNN\n",
      "Classifier\n",
      "Find KNN\n",
      "Classifier\n",
      "Find KNN\n",
      "Classifier\n",
      "Find KNN\n"
     ]
    },
    {
     "name": "stderr",
     "output_type": "stream",
     "text": [
      " 84% |############################################################            |\r"
     ]
    },
    {
     "name": "stdout",
     "output_type": "stream",
     "text": [
      "Classifier\n",
      "Find KNN\n",
      "Classifier\n",
      "Find KNN\n",
      "Classifier\n",
      "Find KNN\n",
      "Classifier\n",
      "Find KNN\n",
      "Classifier\n",
      "Find KNN\n"
     ]
    },
    {
     "name": "stderr",
     "output_type": "stream",
     "text": [
      " 85% |#############################################################           |\r"
     ]
    },
    {
     "name": "stdout",
     "output_type": "stream",
     "text": [
      "Classifier\n",
      "Find KNN\n",
      "Classifier\n",
      "Find KNN\n",
      "Classifier\n",
      "Find KNN\n",
      "Classifier\n",
      "Find KNN\n",
      "Classifier\n",
      "Find KNN\n"
     ]
    },
    {
     "name": "stderr",
     "output_type": "stream",
     "text": [
      " 86% |#############################################################           |\r"
     ]
    },
    {
     "name": "stdout",
     "output_type": "stream",
     "text": [
      "Classifier\n",
      "Find KNN\n",
      "Classifier\n",
      "Find KNN\n",
      "Classifier\n",
      "Find KNN\n",
      "Classifier\n",
      "Find KNN\n",
      "Classifier\n",
      "Find KNN\n"
     ]
    },
    {
     "name": "stderr",
     "output_type": "stream",
     "text": [
      " 87% |##############################################################          |\r"
     ]
    },
    {
     "name": "stdout",
     "output_type": "stream",
     "text": [
      "Classifier\n",
      "Find KNN\n",
      "Classifier\n",
      "Find KNN\n",
      "Classifier\n",
      "Find KNN\n",
      "Classifier\n",
      "Find KNN\n",
      "Classifier\n",
      "Find KNN\n"
     ]
    },
    {
     "name": "stderr",
     "output_type": "stream",
     "text": [
      " 88% |###############################################################         |\r"
     ]
    },
    {
     "name": "stdout",
     "output_type": "stream",
     "text": [
      "Classifier\n",
      "Find KNN\n",
      "Classifier\n",
      "Find KNN\n",
      "Classifier\n",
      "Find KNN\n",
      "Classifier\n",
      "Find KNN\n",
      "Classifier\n",
      "Find KNN\n"
     ]
    },
    {
     "name": "stderr",
     "output_type": "stream",
     "text": [
      " 89% |################################################################        |\r"
     ]
    },
    {
     "name": "stdout",
     "output_type": "stream",
     "text": [
      "Classifier\n",
      "Find KNN\n",
      "Classifier\n",
      "Find KNN\n",
      "Classifier\n",
      "Find KNN\n",
      "Classifier\n",
      "Find KNN\n",
      "Classifier\n",
      "Find KNN\n"
     ]
    },
    {
     "name": "stderr",
     "output_type": "stream",
     "text": [
      " 90% |################################################################        |\r"
     ]
    },
    {
     "name": "stdout",
     "output_type": "stream",
     "text": [
      "Classifier\n",
      "Find KNN\n",
      "Classifier\n",
      "Find KNN\n",
      "Classifier\n",
      "Find KNN\n",
      "Classifier\n",
      "Find KNN\n",
      "Classifier\n",
      "Find KNN\n"
     ]
    },
    {
     "name": "stderr",
     "output_type": "stream",
     "text": [
      " 91% |#################################################################       |\r"
     ]
    },
    {
     "name": "stdout",
     "output_type": "stream",
     "text": [
      "Classifier\n",
      "Find KNN\n",
      "Classifier\n",
      "Find KNN\n",
      "Classifier\n",
      "Find KNN\n",
      "Classifier\n",
      "Find KNN\n",
      "Classifier\n",
      "Find KNN\n"
     ]
    },
    {
     "name": "stderr",
     "output_type": "stream",
     "text": [
      " 92% |##################################################################      |\r"
     ]
    },
    {
     "name": "stdout",
     "output_type": "stream",
     "text": [
      "Classifier\n",
      "Find KNN\n",
      "Classifier\n",
      "Find KNN\n",
      "Classifier\n",
      "Find KNN\n",
      "Classifier\n",
      "Find KNN\n",
      "Classifier\n",
      "Find KNN\n"
     ]
    },
    {
     "name": "stderr",
     "output_type": "stream",
     "text": [
      " 93% |##################################################################      |\r"
     ]
    },
    {
     "name": "stdout",
     "output_type": "stream",
     "text": [
      "Classifier\n",
      "Find KNN\n",
      "Classifier\n",
      "Find KNN\n",
      "Classifier\n",
      "Find KNN\n",
      "Classifier\n",
      "Find KNN\n",
      "Classifier\n",
      "Find KNN\n"
     ]
    },
    {
     "name": "stderr",
     "output_type": "stream",
     "text": [
      " 94% |###################################################################     |\r"
     ]
    },
    {
     "name": "stdout",
     "output_type": "stream",
     "text": [
      "Classifier\n",
      "Find KNN\n",
      "Classifier\n",
      "Find KNN\n",
      "Classifier\n",
      "Find KNN\n",
      "Classifier\n",
      "Find KNN\n",
      "Classifier\n",
      "Find KNN\n"
     ]
    },
    {
     "name": "stderr",
     "output_type": "stream",
     "text": [
      " 95% |####################################################################    |\r"
     ]
    },
    {
     "name": "stdout",
     "output_type": "stream",
     "text": [
      "Classifier\n",
      "Find KNN\n",
      "Classifier\n",
      "Find KNN\n",
      "Classifier\n",
      "Find KNN\n",
      "Classifier\n",
      "Find KNN\n",
      "Classifier\n",
      "Find KNN\n"
     ]
    },
    {
     "name": "stderr",
     "output_type": "stream",
     "text": [
      " 96% |#####################################################################   |\r"
     ]
    },
    {
     "name": "stdout",
     "output_type": "stream",
     "text": [
      "Classifier\n",
      "Find KNN\n",
      "Classifier\n",
      "Find KNN\n",
      "Classifier\n",
      "Find KNN\n",
      "Classifier\n",
      "Find KNN\n",
      "Classifier\n",
      "Find KNN\n"
     ]
    },
    {
     "name": "stderr",
     "output_type": "stream",
     "text": [
      " 97% |#####################################################################   |\r"
     ]
    },
    {
     "name": "stdout",
     "output_type": "stream",
     "text": [
      "Classifier\n",
      "Find KNN\n",
      "Classifier\n",
      "Find KNN\n",
      "Classifier\n",
      "Find KNN\n",
      "Classifier\n",
      "Find KNN\n",
      "Classifier\n",
      "Find KNN\n"
     ]
    },
    {
     "name": "stderr",
     "output_type": "stream",
     "text": [
      " 98% |######################################################################  |\r"
     ]
    },
    {
     "name": "stdout",
     "output_type": "stream",
     "text": [
      "Classifier\n",
      "Find KNN\n",
      "Classifier\n",
      "Find KNN\n",
      "Classifier\n",
      "Find KNN\n",
      "Classifier\n",
      "Find KNN\n",
      "Classifier\n",
      "Find KNN\n"
     ]
    },
    {
     "name": "stderr",
     "output_type": "stream",
     "text": [
      " 99% |####################################################################### |\r"
     ]
    },
    {
     "name": "stdout",
     "output_type": "stream",
     "text": [
      "Classifier\n",
      "Find KNN\n",
      "Classifier\n",
      "Find KNN\n",
      "Classifier\n",
      "Find KNN\n",
      "Classifier\n",
      "Find KNN\n",
      "Classifier\n",
      "Find KNN\n"
     ]
    },
    {
     "name": "stderr",
     "output_type": "stream",
     "text": [
      "100% |########################################################################|\r"
     ]
    },
    {
     "name": "stdout",
     "output_type": "stream",
     "text": [
      "Error of nearest neighbor classifier with Manhattan distance:  0.086\n",
      "Classification time (seconds) with Manhattan distance:  961.9957449436188\n"
     ]
    },
    {
     "name": "stderr",
     "output_type": "stream",
     "text": [
      "\n"
     ]
    }
   ],
   "source": [
    "## Computes Manhattan distance between two vectors.\n",
    "def manh_dist(x,y):\n",
    "    # input:\n",
    "    # x, y: vectorization of an image of size 28 by 28\n",
    "    # output:\n",
    "    # the distance between the two vectors\n",
    "    \n",
    "    ### STUDENT: YOUR CODE HERE\n",
    "    d = len(x)\n",
    "    sum = 0.0\n",
    "    \n",
    "    for i in range(d):\n",
    "        sum = sum + abs(x[i]-y[i])\n",
    "\n",
    "    return sum\n",
    "    ### CODE ENDS\n",
    "\n",
    "pbar = ProgressBar() # to show progress\n",
    "## Predict on each test data point (and time it!)\n",
    "t_before = time.time()\n",
    "test_predictions = np.zeros(len(test_labels))\n",
    "for i in pbar(range(len(test_labels))):   \n",
    "    test_predictions[i] = KNN_classifier(test_data[i,],train_data,train_labels,3,manh_dist)\n",
    "    \n",
    "t_after = time.time()\n",
    "\n",
    "## Compute the error\n",
    "err_positions = np.not_equal(test_predictions, test_labels)\n",
    "error = float(np.sum(err_positions))/len(test_labels)\n",
    "\n",
    "print(\"Error of nearest neighbor classifier with Manhattan distance: \", error)\n",
    "print(\"Classification time (seconds) with Manhattan distance: \", t_after - t_before)"
   ]
  },
  {
   "cell_type": "markdown",
   "metadata": {},
   "source": [
    "**Task P6: Define your own distance function and write down the mathematical definition. Copy the code and the result to the problem set solution file. (2 bonus point) Can you improve over the Euclidean distance?**"
   ]
  },
  {
   "cell_type": "code",
   "execution_count": 32,
   "metadata": {},
   "outputs": [],
   "source": [
    "## Compute a distance metric of your design\n",
    "def my_dist(x,y):\n",
    "    # input:\n",
    "    # x, y: vectorization of an image of size 28 by 28 \n",
    "    # output:\n",
    "    # the distance between the two vectors\n",
    "    \n",
    "    ### STUDENT: YOUR CODE HERE\n",
    "    #get the lenght of x and y\n",
    "    \n",
    "    #Squared chord distance (SCD)\n",
    "    #we take the square root of each point,\n",
    "    #find the diffrence and square that diffrence\n",
    "    \n",
    "    sum = 0.0\n",
    "\n",
    "    d = len(x)\n",
    "    \n",
    "    for i in range(d):\n",
    "        diff = abs(math.sqrt(x[i]))-abs(math.sqrt(y[i]))\n",
    "        sum = sum +pow(diff,2)\n",
    "    \n",
    "    return sum\n",
    "    ### CODE ENDS\n"
   ]
  },
  {
   "cell_type": "code",
   "execution_count": 95,
   "metadata": {},
   "outputs": [
    {
     "name": "stderr",
     "output_type": "stream",
     "text": [
      "  0% |                                                                        |\r"
     ]
    },
    {
     "name": "stdout",
     "output_type": "stream",
     "text": [
      "Classifier\n",
      "Find KNN\n",
      "Classifier\n",
      "Find KNN\n",
      "Classifier\n",
      "Find KNN\n",
      "Classifier\n",
      "Find KNN\n",
      "Classifier\n",
      "Find KNN\n"
     ]
    },
    {
     "name": "stderr",
     "output_type": "stream",
     "text": [
      "  1% |                                                                        |\r"
     ]
    },
    {
     "name": "stdout",
     "output_type": "stream",
     "text": [
      "Classifier\n",
      "Find KNN\n",
      "Classifier\n",
      "Find KNN\n",
      "Classifier\n",
      "Find KNN\n",
      "Classifier\n",
      "Find KNN\n",
      "Classifier\n",
      "Find KNN\n"
     ]
    },
    {
     "name": "stderr",
     "output_type": "stream",
     "text": [
      "  2% |#                                                                       |\r"
     ]
    },
    {
     "name": "stdout",
     "output_type": "stream",
     "text": [
      "Classifier\n",
      "Find KNN\n",
      "Classifier\n",
      "Find KNN\n",
      "Classifier\n",
      "Find KNN\n",
      "Classifier\n",
      "Find KNN\n",
      "Classifier\n",
      "Find KNN\n"
     ]
    },
    {
     "name": "stderr",
     "output_type": "stream",
     "text": [
      "  3% |##                                                                      |\r"
     ]
    },
    {
     "name": "stdout",
     "output_type": "stream",
     "text": [
      "Classifier\n",
      "Find KNN\n",
      "Classifier\n",
      "Find KNN\n",
      "Classifier\n",
      "Find KNN\n",
      "Classifier\n",
      "Find KNN\n",
      "Classifier\n",
      "Find KNN\n"
     ]
    },
    {
     "name": "stderr",
     "output_type": "stream",
     "text": [
      "  4% |##                                                                      |\r"
     ]
    },
    {
     "name": "stdout",
     "output_type": "stream",
     "text": [
      "Classifier\n",
      "Find KNN\n",
      "Classifier\n",
      "Find KNN\n",
      "Classifier\n",
      "Find KNN\n",
      "Classifier\n",
      "Find KNN\n",
      "Classifier\n",
      "Find KNN\n"
     ]
    },
    {
     "name": "stderr",
     "output_type": "stream",
     "text": [
      "  5% |###                                                                     |\r"
     ]
    },
    {
     "name": "stdout",
     "output_type": "stream",
     "text": [
      "Classifier\n",
      "Find KNN\n",
      "Classifier\n",
      "Find KNN\n",
      "Classifier\n",
      "Find KNN\n",
      "Classifier\n",
      "Find KNN\n",
      "Classifier\n",
      "Find KNN\n"
     ]
    },
    {
     "name": "stderr",
     "output_type": "stream",
     "text": [
      "  6% |####                                                                    |\r"
     ]
    },
    {
     "name": "stdout",
     "output_type": "stream",
     "text": [
      "Classifier\n",
      "Find KNN\n",
      "Classifier\n",
      "Find KNN\n",
      "Classifier\n",
      "Find KNN\n",
      "Classifier\n",
      "Find KNN\n",
      "Classifier\n",
      "Find KNN\n"
     ]
    },
    {
     "name": "stderr",
     "output_type": "stream",
     "text": [
      "  7% |#####                                                                   |\r"
     ]
    },
    {
     "name": "stdout",
     "output_type": "stream",
     "text": [
      "Classifier\n",
      "Find KNN\n",
      "Classifier\n",
      "Find KNN\n",
      "Classifier\n",
      "Find KNN\n",
      "Classifier\n",
      "Find KNN\n",
      "Classifier\n",
      "Find KNN\n"
     ]
    },
    {
     "name": "stderr",
     "output_type": "stream",
     "text": [
      "  8% |#####                                                                   |\r"
     ]
    },
    {
     "name": "stdout",
     "output_type": "stream",
     "text": [
      "Classifier\n",
      "Find KNN\n",
      "Classifier\n",
      "Find KNN\n",
      "Classifier\n",
      "Find KNN\n",
      "Classifier\n",
      "Find KNN\n",
      "Classifier\n",
      "Find KNN\n"
     ]
    },
    {
     "name": "stderr",
     "output_type": "stream",
     "text": [
      "  9% |######                                                                  |\r"
     ]
    },
    {
     "name": "stdout",
     "output_type": "stream",
     "text": [
      "Classifier\n",
      "Find KNN\n",
      "Classifier\n",
      "Find KNN\n",
      "Classifier\n",
      "Find KNN\n",
      "Classifier\n",
      "Find KNN\n",
      "Classifier\n",
      "Find KNN\n"
     ]
    },
    {
     "name": "stderr",
     "output_type": "stream",
     "text": [
      " 10% |#######                                                                 |\r"
     ]
    },
    {
     "name": "stdout",
     "output_type": "stream",
     "text": [
      "Classifier\n",
      "Find KNN\n",
      "Classifier\n",
      "Find KNN\n",
      "Classifier\n",
      "Find KNN\n",
      "Classifier\n",
      "Find KNN\n",
      "Classifier\n",
      "Find KNN\n"
     ]
    },
    {
     "name": "stderr",
     "output_type": "stream",
     "text": [
      " 11% |#######                                                                 |\r"
     ]
    },
    {
     "name": "stdout",
     "output_type": "stream",
     "text": [
      "Classifier\n",
      "Find KNN\n",
      "Classifier\n",
      "Find KNN\n",
      "Classifier\n",
      "Find KNN\n",
      "Classifier\n",
      "Find KNN\n",
      "Classifier\n",
      "Find KNN\n"
     ]
    },
    {
     "name": "stderr",
     "output_type": "stream",
     "text": [
      " 12% |########                                                                |\r"
     ]
    },
    {
     "name": "stdout",
     "output_type": "stream",
     "text": [
      "Classifier\n",
      "Find KNN\n",
      "Classifier\n",
      "Find KNN\n",
      "Classifier\n",
      "Find KNN\n",
      "Classifier\n",
      "Find KNN\n",
      "Classifier\n",
      "Find KNN\n"
     ]
    },
    {
     "name": "stderr",
     "output_type": "stream",
     "text": [
      " 13% |#########                                                               |\r"
     ]
    },
    {
     "name": "stdout",
     "output_type": "stream",
     "text": [
      "Classifier\n",
      "Find KNN\n",
      "Classifier\n",
      "Find KNN\n",
      "Classifier\n",
      "Find KNN\n",
      "Classifier\n",
      "Find KNN\n",
      "Classifier\n",
      "Find KNN\n"
     ]
    },
    {
     "name": "stderr",
     "output_type": "stream",
     "text": [
      " 14% |##########                                                              |\r"
     ]
    },
    {
     "name": "stdout",
     "output_type": "stream",
     "text": [
      "Classifier\n",
      "Find KNN\n",
      "Classifier\n",
      "Find KNN\n",
      "Classifier\n",
      "Find KNN\n",
      "Classifier\n",
      "Find KNN\n",
      "Classifier\n",
      "Find KNN\n"
     ]
    },
    {
     "name": "stderr",
     "output_type": "stream",
     "text": [
      " 15% |##########                                                              |\r"
     ]
    },
    {
     "name": "stdout",
     "output_type": "stream",
     "text": [
      "Classifier\n",
      "Find KNN\n",
      "Classifier\n",
      "Find KNN\n",
      "Classifier\n",
      "Find KNN\n",
      "Classifier\n",
      "Find KNN\n",
      "Classifier\n",
      "Find KNN\n"
     ]
    },
    {
     "name": "stderr",
     "output_type": "stream",
     "text": [
      " 16% |###########                                                             |\r"
     ]
    },
    {
     "name": "stdout",
     "output_type": "stream",
     "text": [
      "Classifier\n",
      "Find KNN\n",
      "Classifier\n",
      "Find KNN\n",
      "Classifier\n",
      "Find KNN\n",
      "Classifier\n",
      "Find KNN\n",
      "Classifier\n",
      "Find KNN\n"
     ]
    },
    {
     "name": "stderr",
     "output_type": "stream",
     "text": [
      " 17% |############                                                            |\r"
     ]
    },
    {
     "name": "stdout",
     "output_type": "stream",
     "text": [
      "Classifier\n",
      "Find KNN\n",
      "Classifier\n",
      "Find KNN\n",
      "Classifier\n",
      "Find KNN\n",
      "Classifier\n",
      "Find KNN\n",
      "Classifier\n",
      "Find KNN\n"
     ]
    },
    {
     "name": "stderr",
     "output_type": "stream",
     "text": [
      " 18% |############                                                            |\r"
     ]
    },
    {
     "name": "stdout",
     "output_type": "stream",
     "text": [
      "Classifier\n",
      "Find KNN\n",
      "Classifier\n",
      "Find KNN\n",
      "Classifier\n",
      "Find KNN\n",
      "Classifier\n",
      "Find KNN\n",
      "Classifier\n",
      "Find KNN\n"
     ]
    },
    {
     "name": "stderr",
     "output_type": "stream",
     "text": [
      " 19% |#############                                                           |\r"
     ]
    },
    {
     "name": "stdout",
     "output_type": "stream",
     "text": [
      "Classifier\n",
      "Find KNN\n",
      "Classifier\n",
      "Find KNN\n",
      "Classifier\n",
      "Find KNN\n",
      "Classifier\n",
      "Find KNN\n",
      "Classifier\n",
      "Find KNN\n"
     ]
    },
    {
     "name": "stderr",
     "output_type": "stream",
     "text": [
      " 20% |##############                                                          |\r"
     ]
    },
    {
     "name": "stdout",
     "output_type": "stream",
     "text": [
      "Classifier\n",
      "Find KNN\n",
      "Classifier\n",
      "Find KNN\n",
      "Classifier\n",
      "Find KNN\n",
      "Classifier\n",
      "Find KNN\n",
      "Classifier\n",
      "Find KNN\n"
     ]
    },
    {
     "name": "stderr",
     "output_type": "stream",
     "text": [
      " 21% |###############                                                         |\r"
     ]
    },
    {
     "name": "stdout",
     "output_type": "stream",
     "text": [
      "Classifier\n",
      "Find KNN\n",
      "Classifier\n",
      "Find KNN\n",
      "Classifier\n",
      "Find KNN\n",
      "Classifier\n",
      "Find KNN\n",
      "Classifier\n",
      "Find KNN\n"
     ]
    },
    {
     "name": "stderr",
     "output_type": "stream",
     "text": [
      " 22% |###############                                                         |\r"
     ]
    },
    {
     "name": "stdout",
     "output_type": "stream",
     "text": [
      "Classifier\n",
      "Find KNN\n",
      "Classifier\n",
      "Find KNN\n",
      "Classifier\n",
      "Find KNN\n",
      "Classifier\n",
      "Find KNN\n",
      "Classifier\n",
      "Find KNN\n"
     ]
    },
    {
     "name": "stderr",
     "output_type": "stream",
     "text": [
      " 23% |################                                                        |\r"
     ]
    },
    {
     "name": "stdout",
     "output_type": "stream",
     "text": [
      "Classifier\n",
      "Find KNN\n",
      "Classifier\n",
      "Find KNN\n",
      "Classifier\n",
      "Find KNN\n",
      "Classifier\n",
      "Find KNN\n",
      "Classifier\n",
      "Find KNN\n"
     ]
    },
    {
     "name": "stderr",
     "output_type": "stream",
     "text": [
      " 24% |#################                                                       |\r"
     ]
    },
    {
     "name": "stdout",
     "output_type": "stream",
     "text": [
      "Classifier\n",
      "Find KNN\n",
      "Classifier\n",
      "Find KNN\n",
      "Classifier\n",
      "Find KNN\n",
      "Classifier\n",
      "Find KNN\n",
      "Classifier\n",
      "Find KNN\n"
     ]
    },
    {
     "name": "stderr",
     "output_type": "stream",
     "text": [
      " 25% |##################                                                      |\r"
     ]
    },
    {
     "name": "stdout",
     "output_type": "stream",
     "text": [
      "Classifier\n",
      "Find KNN\n",
      "Classifier\n",
      "Find KNN\n",
      "Classifier\n",
      "Find KNN\n",
      "Classifier\n",
      "Find KNN\n",
      "Classifier\n",
      "Find KNN\n"
     ]
    },
    {
     "name": "stderr",
     "output_type": "stream",
     "text": [
      " 26% |##################                                                      |\r"
     ]
    },
    {
     "name": "stdout",
     "output_type": "stream",
     "text": [
      "Classifier\n",
      "Find KNN\n",
      "Classifier\n",
      "Find KNN\n",
      "Classifier\n",
      "Find KNN\n",
      "Classifier\n",
      "Find KNN\n",
      "Classifier\n",
      "Find KNN\n"
     ]
    },
    {
     "name": "stderr",
     "output_type": "stream",
     "text": [
      " 27% |###################                                                     |\r"
     ]
    },
    {
     "name": "stdout",
     "output_type": "stream",
     "text": [
      "Classifier\n",
      "Find KNN\n",
      "Classifier\n",
      "Find KNN\n",
      "Classifier\n",
      "Find KNN\n",
      "Classifier\n",
      "Find KNN\n",
      "Classifier\n",
      "Find KNN\n"
     ]
    },
    {
     "name": "stderr",
     "output_type": "stream",
     "text": [
      " 28% |####################                                                    |\r"
     ]
    },
    {
     "name": "stdout",
     "output_type": "stream",
     "text": [
      "Classifier\n",
      "Find KNN\n",
      "Classifier\n",
      "Find KNN\n",
      "Classifier\n",
      "Find KNN\n",
      "Classifier\n",
      "Find KNN\n",
      "Classifier\n",
      "Find KNN\n"
     ]
    },
    {
     "name": "stderr",
     "output_type": "stream",
     "text": [
      " 29% |####################                                                    |\r"
     ]
    },
    {
     "name": "stdout",
     "output_type": "stream",
     "text": [
      "Classifier\n",
      "Find KNN\n",
      "Classifier\n",
      "Find KNN\n",
      "Classifier\n",
      "Find KNN\n",
      "Classifier\n",
      "Find KNN\n",
      "Classifier\n",
      "Find KNN\n"
     ]
    },
    {
     "name": "stderr",
     "output_type": "stream",
     "text": [
      " 30% |#####################                                                   |\r"
     ]
    },
    {
     "name": "stdout",
     "output_type": "stream",
     "text": [
      "Classifier\n",
      "Find KNN\n",
      "Classifier\n",
      "Find KNN\n",
      "Classifier\n",
      "Find KNN\n",
      "Classifier\n",
      "Find KNN\n",
      "Classifier\n",
      "Find KNN\n"
     ]
    },
    {
     "name": "stderr",
     "output_type": "stream",
     "text": [
      " 31% |######################                                                  |\r"
     ]
    },
    {
     "name": "stdout",
     "output_type": "stream",
     "text": [
      "Classifier\n",
      "Find KNN\n",
      "Classifier\n",
      "Find KNN\n",
      "Classifier\n",
      "Find KNN\n",
      "Classifier\n",
      "Find KNN\n",
      "Classifier\n",
      "Find KNN\n"
     ]
    },
    {
     "name": "stderr",
     "output_type": "stream",
     "text": [
      " 32% |#######################                                                 |\r"
     ]
    },
    {
     "name": "stdout",
     "output_type": "stream",
     "text": [
      "Classifier\n",
      "Find KNN\n",
      "Classifier\n",
      "Find KNN\n",
      "Classifier\n",
      "Find KNN\n",
      "Classifier\n",
      "Find KNN\n",
      "Classifier\n",
      "Find KNN\n"
     ]
    },
    {
     "name": "stderr",
     "output_type": "stream",
     "text": [
      " 33% |#######################                                                 |\r"
     ]
    },
    {
     "name": "stdout",
     "output_type": "stream",
     "text": [
      "Classifier\n",
      "Find KNN\n",
      "Classifier\n",
      "Find KNN\n",
      "Classifier\n",
      "Find KNN\n",
      "Classifier\n",
      "Find KNN\n",
      "Classifier\n",
      "Find KNN\n"
     ]
    },
    {
     "name": "stderr",
     "output_type": "stream",
     "text": [
      " 34% |########################                                                |\r"
     ]
    },
    {
     "name": "stdout",
     "output_type": "stream",
     "text": [
      "Classifier\n",
      "Find KNN\n",
      "Classifier\n",
      "Find KNN\n",
      "Classifier\n",
      "Find KNN\n",
      "Classifier\n",
      "Find KNN\n",
      "Classifier\n",
      "Find KNN\n"
     ]
    },
    {
     "name": "stderr",
     "output_type": "stream",
     "text": [
      " 35% |#########################                                               |\r"
     ]
    },
    {
     "name": "stdout",
     "output_type": "stream",
     "text": [
      "Classifier\n",
      "Find KNN\n",
      "Classifier\n",
      "Find KNN\n",
      "Classifier\n",
      "Find KNN\n",
      "Classifier\n",
      "Find KNN\n",
      "Classifier\n",
      "Find KNN\n"
     ]
    },
    {
     "name": "stderr",
     "output_type": "stream",
     "text": [
      " 36% |#########################                                               |\r"
     ]
    },
    {
     "name": "stdout",
     "output_type": "stream",
     "text": [
      "Classifier\n",
      "Find KNN\n",
      "Classifier\n",
      "Find KNN\n",
      "Classifier\n",
      "Find KNN\n",
      "Classifier\n",
      "Find KNN\n",
      "Classifier\n",
      "Find KNN\n"
     ]
    },
    {
     "name": "stderr",
     "output_type": "stream",
     "text": [
      " 37% |##########################                                              |\r"
     ]
    },
    {
     "name": "stdout",
     "output_type": "stream",
     "text": [
      "Classifier\n",
      "Find KNN\n",
      "Classifier\n",
      "Find KNN\n",
      "Classifier\n",
      "Find KNN\n",
      "Classifier\n",
      "Find KNN\n",
      "Classifier\n",
      "Find KNN\n"
     ]
    },
    {
     "name": "stderr",
     "output_type": "stream",
     "text": [
      " 38% |###########################                                             |\r"
     ]
    },
    {
     "name": "stdout",
     "output_type": "stream",
     "text": [
      "Classifier\n",
      "Find KNN\n",
      "Classifier\n",
      "Find KNN\n",
      "Classifier\n",
      "Find KNN\n",
      "Classifier\n",
      "Find KNN\n",
      "Classifier\n",
      "Find KNN\n"
     ]
    },
    {
     "name": "stderr",
     "output_type": "stream",
     "text": [
      " 39% |############################                                            |\r"
     ]
    },
    {
     "name": "stdout",
     "output_type": "stream",
     "text": [
      "Classifier\n",
      "Find KNN\n",
      "Classifier\n",
      "Find KNN\n",
      "Classifier\n",
      "Find KNN\n",
      "Classifier\n",
      "Find KNN\n",
      "Classifier\n",
      "Find KNN\n"
     ]
    },
    {
     "name": "stderr",
     "output_type": "stream",
     "text": [
      " 40% |############################                                            |\r"
     ]
    },
    {
     "name": "stdout",
     "output_type": "stream",
     "text": [
      "Classifier\n",
      "Find KNN\n",
      "Classifier\n",
      "Find KNN\n",
      "Classifier\n",
      "Find KNN\n",
      "Classifier\n",
      "Find KNN\n",
      "Classifier\n",
      "Find KNN\n"
     ]
    },
    {
     "name": "stderr",
     "output_type": "stream",
     "text": [
      " 41% |#############################                                           |\r"
     ]
    },
    {
     "name": "stdout",
     "output_type": "stream",
     "text": [
      "Classifier\n",
      "Find KNN\n",
      "Classifier\n",
      "Find KNN\n",
      "Classifier\n",
      "Find KNN\n",
      "Classifier\n",
      "Find KNN\n",
      "Classifier\n",
      "Find KNN\n"
     ]
    },
    {
     "name": "stderr",
     "output_type": "stream",
     "text": [
      " 42% |##############################                                          |\r"
     ]
    },
    {
     "name": "stdout",
     "output_type": "stream",
     "text": [
      "Classifier\n",
      "Find KNN\n",
      "Classifier\n",
      "Find KNN\n",
      "Classifier\n",
      "Find KNN\n",
      "Classifier\n",
      "Find KNN\n",
      "Classifier\n",
      "Find KNN\n"
     ]
    },
    {
     "name": "stderr",
     "output_type": "stream",
     "text": [
      " 43% |##############################                                          |\r"
     ]
    },
    {
     "name": "stdout",
     "output_type": "stream",
     "text": [
      "Classifier\n",
      "Find KNN\n",
      "Classifier\n",
      "Find KNN\n",
      "Classifier\n",
      "Find KNN\n",
      "Classifier\n",
      "Find KNN\n",
      "Classifier\n",
      "Find KNN\n"
     ]
    },
    {
     "name": "stderr",
     "output_type": "stream",
     "text": [
      " 44% |###############################                                         |\r"
     ]
    },
    {
     "name": "stdout",
     "output_type": "stream",
     "text": [
      "Classifier\n",
      "Find KNN\n",
      "Classifier\n",
      "Find KNN\n",
      "Classifier\n",
      "Find KNN\n",
      "Classifier\n",
      "Find KNN\n",
      "Classifier\n",
      "Find KNN\n"
     ]
    },
    {
     "name": "stderr",
     "output_type": "stream",
     "text": [
      " 45% |################################                                        |\r"
     ]
    },
    {
     "name": "stdout",
     "output_type": "stream",
     "text": [
      "Classifier\n",
      "Find KNN\n",
      "Classifier\n",
      "Find KNN\n",
      "Classifier\n",
      "Find KNN\n",
      "Classifier\n",
      "Find KNN\n",
      "Classifier\n",
      "Find KNN\n"
     ]
    },
    {
     "name": "stderr",
     "output_type": "stream",
     "text": [
      " 46% |#################################                                       |\r"
     ]
    },
    {
     "name": "stdout",
     "output_type": "stream",
     "text": [
      "Classifier\n",
      "Find KNN\n",
      "Classifier\n",
      "Find KNN\n",
      "Classifier\n",
      "Find KNN\n",
      "Classifier\n",
      "Find KNN\n",
      "Classifier\n",
      "Find KNN\n"
     ]
    },
    {
     "name": "stderr",
     "output_type": "stream",
     "text": [
      " 47% |#################################                                       |\r"
     ]
    },
    {
     "name": "stdout",
     "output_type": "stream",
     "text": [
      "Classifier\n",
      "Find KNN\n",
      "Classifier\n",
      "Find KNN\n",
      "Classifier\n",
      "Find KNN\n",
      "Classifier\n",
      "Find KNN\n",
      "Classifier\n",
      "Find KNN\n"
     ]
    },
    {
     "name": "stderr",
     "output_type": "stream",
     "text": [
      " 48% |##################################                                      |\r"
     ]
    },
    {
     "name": "stdout",
     "output_type": "stream",
     "text": [
      "Classifier\n",
      "Find KNN\n",
      "Classifier\n",
      "Find KNN\n",
      "Classifier\n",
      "Find KNN\n",
      "Classifier\n",
      "Find KNN\n",
      "Classifier\n",
      "Find KNN\n"
     ]
    },
    {
     "name": "stderr",
     "output_type": "stream",
     "text": [
      " 49% |###################################                                     |\r"
     ]
    },
    {
     "name": "stdout",
     "output_type": "stream",
     "text": [
      "Classifier\n",
      "Find KNN\n",
      "Classifier\n",
      "Find KNN\n",
      "Classifier\n",
      "Find KNN\n",
      "Classifier\n",
      "Find KNN\n",
      "Classifier\n",
      "Find KNN\n"
     ]
    },
    {
     "name": "stderr",
     "output_type": "stream",
     "text": [
      " 50% |####################################                                    |\r"
     ]
    },
    {
     "name": "stdout",
     "output_type": "stream",
     "text": [
      "Classifier\n",
      "Find KNN\n",
      "Classifier\n",
      "Find KNN\n",
      "Classifier\n",
      "Find KNN\n",
      "Classifier\n",
      "Find KNN\n",
      "Classifier\n",
      "Find KNN\n"
     ]
    },
    {
     "name": "stderr",
     "output_type": "stream",
     "text": [
      " 51% |####################################                                    |\r"
     ]
    },
    {
     "name": "stdout",
     "output_type": "stream",
     "text": [
      "Classifier\n",
      "Find KNN\n",
      "Classifier\n",
      "Find KNN\n",
      "Classifier\n",
      "Find KNN\n",
      "Classifier\n",
      "Find KNN\n",
      "Classifier\n",
      "Find KNN\n"
     ]
    },
    {
     "name": "stderr",
     "output_type": "stream",
     "text": [
      " 52% |#####################################                                   |\r"
     ]
    },
    {
     "name": "stdout",
     "output_type": "stream",
     "text": [
      "Classifier\n",
      "Find KNN\n",
      "Classifier\n",
      "Find KNN\n",
      "Classifier\n",
      "Find KNN\n",
      "Classifier\n",
      "Find KNN\n",
      "Classifier\n",
      "Find KNN\n"
     ]
    },
    {
     "name": "stderr",
     "output_type": "stream",
     "text": [
      " 53% |######################################                                  |\r"
     ]
    },
    {
     "name": "stdout",
     "output_type": "stream",
     "text": [
      "Classifier\n",
      "Find KNN\n",
      "Classifier\n",
      "Find KNN\n",
      "Classifier\n",
      "Find KNN\n",
      "Classifier\n",
      "Find KNN\n",
      "Classifier\n",
      "Find KNN\n"
     ]
    },
    {
     "name": "stderr",
     "output_type": "stream",
     "text": [
      " 54% |######################################                                  |\r"
     ]
    },
    {
     "name": "stdout",
     "output_type": "stream",
     "text": [
      "Classifier\n",
      "Find KNN\n",
      "Classifier\n",
      "Find KNN\n",
      "Classifier\n",
      "Find KNN\n",
      "Classifier\n",
      "Find KNN\n",
      "Classifier\n",
      "Find KNN\n"
     ]
    },
    {
     "name": "stderr",
     "output_type": "stream",
     "text": [
      " 55% |#######################################                                 |\r"
     ]
    },
    {
     "name": "stdout",
     "output_type": "stream",
     "text": [
      "Classifier\n",
      "Find KNN\n",
      "Classifier\n",
      "Find KNN\n",
      "Classifier\n",
      "Find KNN\n",
      "Classifier\n",
      "Find KNN\n",
      "Classifier\n",
      "Find KNN\n"
     ]
    },
    {
     "name": "stderr",
     "output_type": "stream",
     "text": [
      " 56% |########################################                                |\r"
     ]
    },
    {
     "name": "stdout",
     "output_type": "stream",
     "text": [
      "Classifier\n",
      "Find KNN\n",
      "Classifier\n",
      "Find KNN\n",
      "Classifier\n",
      "Find KNN\n",
      "Classifier\n",
      "Find KNN\n",
      "Classifier\n",
      "Find KNN\n"
     ]
    },
    {
     "name": "stderr",
     "output_type": "stream",
     "text": [
      " 57% |#########################################                               |\r"
     ]
    },
    {
     "name": "stdout",
     "output_type": "stream",
     "text": [
      "Classifier\n",
      "Find KNN\n",
      "Classifier\n",
      "Find KNN\n",
      "Classifier\n",
      "Find KNN\n",
      "Classifier\n",
      "Find KNN\n",
      "Classifier\n",
      "Find KNN\n"
     ]
    },
    {
     "name": "stderr",
     "output_type": "stream",
     "text": [
      " 58% |#########################################                               |\r"
     ]
    },
    {
     "name": "stdout",
     "output_type": "stream",
     "text": [
      "Classifier\n",
      "Find KNN\n",
      "Classifier\n",
      "Find KNN\n",
      "Classifier\n",
      "Find KNN\n",
      "Classifier\n",
      "Find KNN\n",
      "Classifier\n",
      "Find KNN\n"
     ]
    },
    {
     "name": "stderr",
     "output_type": "stream",
     "text": [
      " 59% |##########################################                              |\r"
     ]
    },
    {
     "name": "stdout",
     "output_type": "stream",
     "text": [
      "Classifier\n",
      "Find KNN\n",
      "Classifier\n",
      "Find KNN\n",
      "Classifier\n",
      "Find KNN\n",
      "Classifier\n",
      "Find KNN\n",
      "Classifier\n",
      "Find KNN\n"
     ]
    },
    {
     "name": "stderr",
     "output_type": "stream",
     "text": [
      " 60% |###########################################                             |\r"
     ]
    },
    {
     "name": "stdout",
     "output_type": "stream",
     "text": [
      "Classifier\n",
      "Find KNN\n",
      "Classifier\n",
      "Find KNN\n",
      "Classifier\n",
      "Find KNN\n",
      "Classifier\n",
      "Find KNN\n",
      "Classifier\n",
      "Find KNN\n"
     ]
    },
    {
     "name": "stderr",
     "output_type": "stream",
     "text": [
      " 61% |###########################################                             |\r"
     ]
    },
    {
     "name": "stdout",
     "output_type": "stream",
     "text": [
      "Classifier\n",
      "Find KNN\n",
      "Classifier\n",
      "Find KNN\n",
      "Classifier\n",
      "Find KNN\n",
      "Classifier\n",
      "Find KNN\n",
      "Classifier\n",
      "Find KNN\n"
     ]
    },
    {
     "name": "stderr",
     "output_type": "stream",
     "text": [
      " 62% |############################################                            |\r"
     ]
    },
    {
     "name": "stdout",
     "output_type": "stream",
     "text": [
      "Classifier\n",
      "Find KNN\n",
      "Classifier\n",
      "Find KNN\n",
      "Classifier\n",
      "Find KNN\n",
      "Classifier\n",
      "Find KNN\n",
      "Classifier\n",
      "Find KNN\n"
     ]
    },
    {
     "name": "stderr",
     "output_type": "stream",
     "text": [
      " 63% |#############################################                           |\r"
     ]
    },
    {
     "name": "stdout",
     "output_type": "stream",
     "text": [
      "Classifier\n",
      "Find KNN\n",
      "Classifier\n",
      "Find KNN\n",
      "Classifier\n",
      "Find KNN\n",
      "Classifier\n",
      "Find KNN\n",
      "Classifier\n",
      "Find KNN\n"
     ]
    },
    {
     "name": "stderr",
     "output_type": "stream",
     "text": [
      " 64% |##############################################                          |\r"
     ]
    },
    {
     "name": "stdout",
     "output_type": "stream",
     "text": [
      "Classifier\n",
      "Find KNN\n",
      "Classifier\n",
      "Find KNN\n",
      "Classifier\n",
      "Find KNN\n",
      "Classifier\n",
      "Find KNN\n",
      "Classifier\n",
      "Find KNN\n"
     ]
    },
    {
     "name": "stderr",
     "output_type": "stream",
     "text": [
      " 65% |##############################################                          |\r"
     ]
    },
    {
     "name": "stdout",
     "output_type": "stream",
     "text": [
      "Classifier\n",
      "Find KNN\n",
      "Classifier\n",
      "Find KNN\n",
      "Classifier\n",
      "Find KNN\n",
      "Classifier\n",
      "Find KNN\n",
      "Classifier\n",
      "Find KNN\n"
     ]
    },
    {
     "name": "stderr",
     "output_type": "stream",
     "text": [
      " 66% |###############################################                         |\r"
     ]
    },
    {
     "name": "stdout",
     "output_type": "stream",
     "text": [
      "Classifier\n",
      "Find KNN\n",
      "Classifier\n",
      "Find KNN\n",
      "Classifier\n",
      "Find KNN\n",
      "Classifier\n",
      "Find KNN\n",
      "Classifier\n",
      "Find KNN\n"
     ]
    },
    {
     "name": "stderr",
     "output_type": "stream",
     "text": [
      " 67% |################################################                        |\r"
     ]
    },
    {
     "name": "stdout",
     "output_type": "stream",
     "text": [
      "Classifier\n",
      "Find KNN\n",
      "Classifier\n",
      "Find KNN\n",
      "Classifier\n",
      "Find KNN\n",
      "Classifier\n",
      "Find KNN\n",
      "Classifier\n",
      "Find KNN\n"
     ]
    },
    {
     "name": "stderr",
     "output_type": "stream",
     "text": [
      " 68% |################################################                        |\r"
     ]
    },
    {
     "name": "stdout",
     "output_type": "stream",
     "text": [
      "Classifier\n",
      "Find KNN\n",
      "Classifier\n",
      "Find KNN\n",
      "Classifier\n",
      "Find KNN\n",
      "Classifier\n",
      "Find KNN\n",
      "Classifier\n",
      "Find KNN\n"
     ]
    },
    {
     "name": "stderr",
     "output_type": "stream",
     "text": [
      " 69% |#################################################                       |\r"
     ]
    },
    {
     "name": "stdout",
     "output_type": "stream",
     "text": [
      "Classifier\n",
      "Find KNN\n",
      "Classifier\n",
      "Find KNN\n",
      "Classifier\n",
      "Find KNN\n",
      "Classifier\n",
      "Find KNN\n",
      "Classifier\n",
      "Find KNN\n"
     ]
    },
    {
     "name": "stderr",
     "output_type": "stream",
     "text": [
      " 70% |##################################################                      |\r"
     ]
    },
    {
     "name": "stdout",
     "output_type": "stream",
     "text": [
      "Classifier\n",
      "Find KNN\n",
      "Classifier\n",
      "Find KNN\n",
      "Classifier\n",
      "Find KNN\n",
      "Classifier\n",
      "Find KNN\n",
      "Classifier\n",
      "Find KNN\n"
     ]
    },
    {
     "name": "stderr",
     "output_type": "stream",
     "text": [
      " 71% |###################################################                     |\r"
     ]
    },
    {
     "name": "stdout",
     "output_type": "stream",
     "text": [
      "Classifier\n",
      "Find KNN\n",
      "Classifier\n",
      "Find KNN\n",
      "Classifier\n",
      "Find KNN\n",
      "Classifier\n",
      "Find KNN\n",
      "Classifier\n",
      "Find KNN\n"
     ]
    },
    {
     "name": "stderr",
     "output_type": "stream",
     "text": [
      " 72% |###################################################                     |\r"
     ]
    },
    {
     "name": "stdout",
     "output_type": "stream",
     "text": [
      "Classifier\n",
      "Find KNN\n",
      "Classifier\n",
      "Find KNN\n",
      "Classifier\n",
      "Find KNN\n",
      "Classifier\n",
      "Find KNN\n",
      "Classifier\n",
      "Find KNN\n"
     ]
    },
    {
     "name": "stderr",
     "output_type": "stream",
     "text": [
      " 73% |####################################################                    |\r"
     ]
    },
    {
     "name": "stdout",
     "output_type": "stream",
     "text": [
      "Classifier\n",
      "Find KNN\n",
      "Classifier\n",
      "Find KNN\n",
      "Classifier\n",
      "Find KNN\n",
      "Classifier\n",
      "Find KNN\n",
      "Classifier\n",
      "Find KNN\n"
     ]
    },
    {
     "name": "stderr",
     "output_type": "stream",
     "text": [
      " 74% |#####################################################                   |\r"
     ]
    },
    {
     "name": "stdout",
     "output_type": "stream",
     "text": [
      "Classifier\n",
      "Find KNN\n",
      "Classifier\n",
      "Find KNN\n",
      "Classifier\n",
      "Find KNN\n",
      "Classifier\n",
      "Find KNN\n",
      "Classifier\n",
      "Find KNN\n"
     ]
    },
    {
     "name": "stderr",
     "output_type": "stream",
     "text": [
      " 75% |######################################################                  |\r"
     ]
    },
    {
     "name": "stdout",
     "output_type": "stream",
     "text": [
      "Classifier\n",
      "Find KNN\n",
      "Classifier\n",
      "Find KNN\n",
      "Classifier\n",
      "Find KNN\n",
      "Classifier\n",
      "Find KNN\n",
      "Classifier\n",
      "Find KNN\n"
     ]
    },
    {
     "name": "stderr",
     "output_type": "stream",
     "text": [
      " 76% |######################################################                  |\r"
     ]
    },
    {
     "name": "stdout",
     "output_type": "stream",
     "text": [
      "Classifier\n",
      "Find KNN\n",
      "Classifier\n",
      "Find KNN\n",
      "Classifier\n",
      "Find KNN\n",
      "Classifier\n",
      "Find KNN\n",
      "Classifier\n",
      "Find KNN\n"
     ]
    },
    {
     "name": "stderr",
     "output_type": "stream",
     "text": [
      " 77% |#######################################################                 |\r"
     ]
    },
    {
     "name": "stdout",
     "output_type": "stream",
     "text": [
      "Classifier\n",
      "Find KNN\n",
      "Classifier\n",
      "Find KNN\n",
      "Classifier\n",
      "Find KNN\n",
      "Classifier\n",
      "Find KNN\n",
      "Classifier\n",
      "Find KNN\n"
     ]
    },
    {
     "name": "stderr",
     "output_type": "stream",
     "text": [
      " 78% |########################################################                |\r"
     ]
    },
    {
     "name": "stdout",
     "output_type": "stream",
     "text": [
      "Classifier\n",
      "Find KNN\n",
      "Classifier\n",
      "Find KNN\n",
      "Classifier\n",
      "Find KNN\n",
      "Classifier\n",
      "Find KNN\n",
      "Classifier\n",
      "Find KNN\n"
     ]
    },
    {
     "name": "stderr",
     "output_type": "stream",
     "text": [
      " 79% |########################################################                |\r"
     ]
    },
    {
     "name": "stdout",
     "output_type": "stream",
     "text": [
      "Classifier\n",
      "Find KNN\n",
      "Classifier\n",
      "Find KNN\n",
      "Classifier\n",
      "Find KNN\n",
      "Classifier\n",
      "Find KNN\n",
      "Classifier\n",
      "Find KNN\n"
     ]
    },
    {
     "name": "stderr",
     "output_type": "stream",
     "text": [
      " 80% |#########################################################               |\r"
     ]
    },
    {
     "name": "stdout",
     "output_type": "stream",
     "text": [
      "Classifier\n",
      "Find KNN\n",
      "Classifier\n",
      "Find KNN\n",
      "Classifier\n",
      "Find KNN\n",
      "Classifier\n",
      "Find KNN\n",
      "Classifier\n",
      "Find KNN\n"
     ]
    },
    {
     "name": "stderr",
     "output_type": "stream",
     "text": [
      " 81% |##########################################################              |\r"
     ]
    },
    {
     "name": "stdout",
     "output_type": "stream",
     "text": [
      "Classifier\n",
      "Find KNN\n",
      "Classifier\n",
      "Find KNN\n",
      "Classifier\n",
      "Find KNN\n",
      "Classifier\n",
      "Find KNN\n",
      "Classifier\n",
      "Find KNN\n"
     ]
    },
    {
     "name": "stderr",
     "output_type": "stream",
     "text": [
      " 82% |###########################################################             |\r"
     ]
    },
    {
     "name": "stdout",
     "output_type": "stream",
     "text": [
      "Classifier\n",
      "Find KNN\n",
      "Classifier\n",
      "Find KNN\n",
      "Classifier\n",
      "Find KNN\n",
      "Classifier\n",
      "Find KNN\n",
      "Classifier\n",
      "Find KNN\n"
     ]
    },
    {
     "name": "stderr",
     "output_type": "stream",
     "text": [
      " 83% |###########################################################             |\r"
     ]
    },
    {
     "name": "stdout",
     "output_type": "stream",
     "text": [
      "Classifier\n",
      "Find KNN\n",
      "Classifier\n",
      "Find KNN\n",
      "Classifier\n",
      "Find KNN\n",
      "Classifier\n",
      "Find KNN\n",
      "Classifier\n",
      "Find KNN\n"
     ]
    },
    {
     "name": "stderr",
     "output_type": "stream",
     "text": [
      " 84% |############################################################            |\r"
     ]
    },
    {
     "name": "stdout",
     "output_type": "stream",
     "text": [
      "Classifier\n",
      "Find KNN\n",
      "Classifier\n",
      "Find KNN\n",
      "Classifier\n",
      "Find KNN\n",
      "Classifier\n",
      "Find KNN\n",
      "Classifier\n",
      "Find KNN\n"
     ]
    },
    {
     "name": "stderr",
     "output_type": "stream",
     "text": [
      " 85% |#############################################################           |\r"
     ]
    },
    {
     "name": "stdout",
     "output_type": "stream",
     "text": [
      "Classifier\n",
      "Find KNN\n",
      "Classifier\n",
      "Find KNN\n",
      "Classifier\n",
      "Find KNN\n",
      "Classifier\n",
      "Find KNN\n",
      "Classifier\n",
      "Find KNN\n"
     ]
    },
    {
     "name": "stderr",
     "output_type": "stream",
     "text": [
      " 86% |#############################################################           |\r"
     ]
    },
    {
     "name": "stdout",
     "output_type": "stream",
     "text": [
      "Classifier\n",
      "Find KNN\n",
      "Classifier\n",
      "Find KNN\n",
      "Classifier\n",
      "Find KNN\n",
      "Classifier\n",
      "Find KNN\n",
      "Classifier\n",
      "Find KNN\n"
     ]
    },
    {
     "name": "stderr",
     "output_type": "stream",
     "text": [
      " 87% |##############################################################          |\r"
     ]
    },
    {
     "name": "stdout",
     "output_type": "stream",
     "text": [
      "Classifier\n",
      "Find KNN\n",
      "Classifier\n",
      "Find KNN\n",
      "Classifier\n",
      "Find KNN\n",
      "Classifier\n",
      "Find KNN\n",
      "Classifier\n",
      "Find KNN\n"
     ]
    },
    {
     "name": "stderr",
     "output_type": "stream",
     "text": [
      " 88% |###############################################################         |\r"
     ]
    },
    {
     "name": "stdout",
     "output_type": "stream",
     "text": [
      "Classifier\n",
      "Find KNN\n",
      "Classifier\n",
      "Find KNN\n",
      "Classifier\n",
      "Find KNN\n",
      "Classifier\n",
      "Find KNN\n",
      "Classifier\n",
      "Find KNN\n"
     ]
    },
    {
     "name": "stderr",
     "output_type": "stream",
     "text": [
      " 89% |################################################################        |\r"
     ]
    },
    {
     "name": "stdout",
     "output_type": "stream",
     "text": [
      "Classifier\n",
      "Find KNN\n",
      "Classifier\n",
      "Find KNN\n",
      "Classifier\n",
      "Find KNN\n",
      "Classifier\n",
      "Find KNN\n",
      "Classifier\n",
      "Find KNN\n"
     ]
    },
    {
     "name": "stderr",
     "output_type": "stream",
     "text": [
      " 90% |################################################################        |\r"
     ]
    },
    {
     "name": "stdout",
     "output_type": "stream",
     "text": [
      "Classifier\n",
      "Find KNN\n",
      "Classifier\n",
      "Find KNN\n",
      "Classifier\n",
      "Find KNN\n",
      "Classifier\n",
      "Find KNN\n",
      "Classifier\n",
      "Find KNN\n"
     ]
    },
    {
     "name": "stderr",
     "output_type": "stream",
     "text": [
      " 91% |#################################################################       |\r"
     ]
    },
    {
     "name": "stdout",
     "output_type": "stream",
     "text": [
      "Classifier\n",
      "Find KNN\n",
      "Classifier\n",
      "Find KNN\n",
      "Classifier\n",
      "Find KNN\n",
      "Classifier\n",
      "Find KNN\n",
      "Classifier\n",
      "Find KNN\n"
     ]
    },
    {
     "name": "stderr",
     "output_type": "stream",
     "text": [
      " 92% |##################################################################      |\r"
     ]
    },
    {
     "name": "stdout",
     "output_type": "stream",
     "text": [
      "Classifier\n",
      "Find KNN\n",
      "Classifier\n",
      "Find KNN\n",
      "Classifier\n",
      "Find KNN\n",
      "Classifier\n",
      "Find KNN\n",
      "Classifier\n",
      "Find KNN\n"
     ]
    },
    {
     "name": "stderr",
     "output_type": "stream",
     "text": [
      " 93% |##################################################################      |\r"
     ]
    },
    {
     "name": "stdout",
     "output_type": "stream",
     "text": [
      "Classifier\n",
      "Find KNN\n",
      "Classifier\n",
      "Find KNN\n",
      "Classifier\n",
      "Find KNN\n",
      "Classifier\n",
      "Find KNN\n",
      "Classifier\n",
      "Find KNN\n"
     ]
    },
    {
     "name": "stderr",
     "output_type": "stream",
     "text": [
      " 94% |###################################################################     |\r"
     ]
    },
    {
     "name": "stdout",
     "output_type": "stream",
     "text": [
      "Classifier\n",
      "Find KNN\n",
      "Classifier\n",
      "Find KNN\n",
      "Classifier\n",
      "Find KNN\n",
      "Classifier\n",
      "Find KNN\n",
      "Classifier\n",
      "Find KNN\n"
     ]
    },
    {
     "name": "stderr",
     "output_type": "stream",
     "text": [
      " 95% |####################################################################    |\r"
     ]
    },
    {
     "name": "stdout",
     "output_type": "stream",
     "text": [
      "Classifier\n",
      "Find KNN\n",
      "Classifier\n",
      "Find KNN\n",
      "Classifier\n",
      "Find KNN\n",
      "Classifier\n",
      "Find KNN\n",
      "Classifier\n",
      "Find KNN\n"
     ]
    },
    {
     "name": "stderr",
     "output_type": "stream",
     "text": [
      " 96% |#####################################################################   |\r"
     ]
    },
    {
     "name": "stdout",
     "output_type": "stream",
     "text": [
      "Classifier\n",
      "Find KNN\n",
      "Classifier\n",
      "Find KNN\n",
      "Classifier\n",
      "Find KNN\n",
      "Classifier\n",
      "Find KNN\n",
      "Classifier\n",
      "Find KNN\n"
     ]
    },
    {
     "name": "stderr",
     "output_type": "stream",
     "text": [
      " 97% |#####################################################################   |\r"
     ]
    },
    {
     "name": "stdout",
     "output_type": "stream",
     "text": [
      "Classifier\n",
      "Find KNN\n",
      "Classifier\n",
      "Find KNN\n",
      "Classifier\n",
      "Find KNN\n",
      "Classifier\n",
      "Find KNN\n",
      "Classifier\n",
      "Find KNN\n"
     ]
    },
    {
     "name": "stderr",
     "output_type": "stream",
     "text": [
      " 98% |######################################################################  |\r"
     ]
    },
    {
     "name": "stdout",
     "output_type": "stream",
     "text": [
      "Classifier\n",
      "Find KNN\n",
      "Classifier\n",
      "Find KNN\n",
      "Classifier\n",
      "Find KNN\n",
      "Classifier\n",
      "Find KNN\n",
      "Classifier\n",
      "Find KNN\n"
     ]
    },
    {
     "name": "stderr",
     "output_type": "stream",
     "text": [
      " 99% |####################################################################### |\r"
     ]
    },
    {
     "name": "stdout",
     "output_type": "stream",
     "text": [
      "Classifier\n",
      "Find KNN\n",
      "Classifier\n",
      "Find KNN\n",
      "Classifier\n",
      "Find KNN\n",
      "Classifier\n",
      "Find KNN\n",
      "Classifier\n",
      "Find KNN\n"
     ]
    },
    {
     "name": "stderr",
     "output_type": "stream",
     "text": [
      "100% |########################################################################|\r"
     ]
    },
    {
     "name": "stdout",
     "output_type": "stream",
     "text": [
      "Error of nearest neighbor classifier with the new distance:  0.056\n",
      "Classification time (seconds) with the new distance:  2049.391456604004\n"
     ]
    },
    {
     "name": "stderr",
     "output_type": "stream",
     "text": [
      "\n"
     ]
    }
   ],
   "source": [
    "pbar = ProgressBar() # to show progress\n",
    "## Predict on each test data point (and time it!)\n",
    "t_before = time.time()\n",
    "test_predictions = np.zeros(len(test_labels))\n",
    "for i in pbar(range(len(test_labels))):   \n",
    "    test_predictions[i] = KNN_classifier(test_data[i,],train_data,train_labels,3,my_dist)\n",
    "\n",
    "t_after = time.time()\n",
    "\n",
    "## Compute the error\n",
    "err_positions = np.not_equal(test_predictions, test_labels)\n",
    "error = float(np.sum(err_positions))/len(test_labels)\n",
    "\n",
    "print(\"Error of nearest neighbor classifier with the new distance: \", error)\n",
    "print(\"Classification time (seconds) with the new distance: \", t_after - t_before)"
   ]
  },
  {
   "cell_type": "markdown",
   "metadata": {},
   "source": [
    "## 4. Cross-validation to select K\n",
    "\n",
    "k-Fold Cross Validation (don't confuse this k with the K in KNN!) is a very useful technique to check how well a model performs when we apply it on an independent data. It is often used to flag problems caused by overfitting and selection bias. However, it brings an additional data processing load and time.\n",
    "\n",
    "<img style=\"width:500px\" src=\"K-fold-CV.png\">\n",
    "\n",
    "**Task P7: Implement the 5-fold cross validation to choose the best K (number of nearest neighbors) between 1 and 10 for KNN with Euclidean distance. Copy the code in the solution file and plot the 5-fold validation error with respect to K. Also plot the test error on the same figure. What do you observe?**"
   ]
  },
  {
   "cell_type": "code",
   "execution_count": 133,
   "metadata": {
    "scrolled": false
   },
   "outputs": [
    {
     "name": "stderr",
     "output_type": "stream",
     "text": [
      "100% |########################################################################|\n",
      "  0% |                                                                        |\r"
     ]
    },
    {
     "name": "stdout",
     "output_type": "stream",
     "text": [
      "Error of nearest neighbor classifier with the new distance:  0.91\n",
      "Classification time (seconds) with the new distance:  1190.7693254947662\n"
     ]
    },
    {
     "name": "stderr",
     "output_type": "stream",
     "text": [
      "100% |########################################################################|\n",
      "  0% |                                                                        |\r"
     ]
    },
    {
     "name": "stdout",
     "output_type": "stream",
     "text": [
      "Error of nearest neighbor classifier with the new distance:  0.09\n",
      "Classification time (seconds) with the new distance:  959.9625060558319\n"
     ]
    },
    {
     "name": "stderr",
     "output_type": "stream",
     "text": [
      "100% |########################################################################|\n",
      "  0% |                                                                        |\r"
     ]
    },
    {
     "name": "stdout",
     "output_type": "stream",
     "text": [
      "Error of nearest neighbor classifier with the new distance:  0.09\n",
      "Classification time (seconds) with the new distance:  461.9388930797577\n"
     ]
    },
    {
     "name": "stderr",
     "output_type": "stream",
     "text": [
      "100% |########################################################################|\n",
      "  0% |                                                                        |\r"
     ]
    },
    {
     "name": "stdout",
     "output_type": "stream",
     "text": [
      "Error of nearest neighbor classifier with the new distance:  0.05\n",
      "Classification time (seconds) with the new distance:  472.0826086997986\n"
     ]
    },
    {
     "name": "stderr",
     "output_type": "stream",
     "text": [
      "100% |########################################################################|\r"
     ]
    },
    {
     "name": "stdout",
     "output_type": "stream",
     "text": [
      "Error of nearest neighbor classifier with the new distance:  0.11\n",
      "Classification time (seconds) with the new distance:  486.1788935661316\n"
     ]
    },
    {
     "name": "stderr",
     "output_type": "stream",
     "text": [
      "\n"
     ]
    }
   ],
   "source": [
    "### STUDENT: YOUR CODE HERE\n",
    "\n",
    "# Split a dataset and solutions into k folds\n",
    "dataset_split = list()\n",
    "dataset_copy = deepcopy(test_data)\n",
    "labels_split = list()\n",
    "labels_copy = list(test_labels)\n",
    "#get the size each fold should be\n",
    "fold_size = int(len(test_data) / 5)\n",
    "\n",
    "#print(dataset_copy[0])\n",
    "\n",
    "curr_index = 0\n",
    "for i in range(5):\n",
    "    \n",
    "    fold = []\n",
    "    solutions = list()\n",
    "    \n",
    "    while len(solutions) < fold_size:\n",
    "    #palce a random index into the return list\n",
    "        index = randrange(len(labels_copy))\n",
    "        \n",
    "        fold.append(dataset_copy[index])\n",
    "        dataset_copy = np.delete(dataset_copy,index,0)\n",
    "        solutions.append(labels_copy.pop(index))\n",
    "        curr_index +=1 \n",
    "        \n",
    "    #print(len(dataset_copy))\n",
    "    #print(len(solutions))\n",
    "    #print(fold)\n",
    "    dataset_split.append(fold)\n",
    "    labels_split.append(solutions)\n",
    "\n",
    "\n",
    "curr_fold = 0\n",
    "k_value = 1\n",
    "for fold in dataset_split:\n",
    "    pbar = ProgressBar() # to show progress\n",
    "    ## Predict on each test data point (and time it!)\n",
    "    t_before = time.time()\n",
    "    \n",
    "    test_predictions = np.zeros(len(labels_split[0]))\n",
    "    #print(dataset_split[0][0])\n",
    "    for i in pbar(range(len(labels_split[0]))): \n",
    "        #print(test_data[i,])\n",
    "        #print(dataset_split[i,])\n",
    "        #print(labels_split[i])\n",
    "        \n",
    "        test_predictions[i] = KNN_classifier(fold[i],train_data,train_labels,curr_fold,eucl_dist)\n",
    "\n",
    "    t_after = time.time()\n",
    "\n",
    "    ## Compute the error\n",
    "    err_positions = np.not_equal(test_predictions, labels_split[curr_fold])\n",
    "    error = float(np.sum(err_positions))/len(labels_split[curr_fold])\n",
    "\n",
    "    print(\"Error of nearest neighbor classifier with the new distance: \", error)\n",
    "    print(\"Classification time (seconds) with the new distance: \", t_after - t_before)\n",
    "    curr_fold = curr_fold+1\n",
    "    k_value = k_value +2\n"
   ]
  },
  {
   "cell_type": "markdown",
   "metadata": {},
   "source": [
    "Congratulations! You have just implemented the KNN algorithm and tested it on the MNIST dataset!"
   ]
  },
  {
   "cell_type": "code",
   "execution_count": null,
   "metadata": {},
   "outputs": [],
   "source": []
  },
  {
   "cell_type": "code",
   "execution_count": null,
   "metadata": {},
   "outputs": [],
   "source": []
  }
 ],
 "metadata": {
  "kernelspec": {
   "display_name": "Python 3",
   "language": "python",
   "name": "python3"
  },
  "language_info": {
   "codemirror_mode": {
    "name": "ipython",
    "version": 3
   },
   "file_extension": ".py",
   "mimetype": "text/x-python",
   "name": "python",
   "nbconvert_exporter": "python",
   "pygments_lexer": "ipython3",
   "version": "3.6.4"
  }
 },
 "nbformat": 4,
 "nbformat_minor": 2
}
