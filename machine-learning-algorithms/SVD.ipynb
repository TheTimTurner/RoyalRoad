{
 "cells": [
  {
   "cell_type": "markdown",
   "metadata": {},
   "source": [
    "# SVD Classifier"
   ]
  },
  {
   "cell_type": "markdown",
   "metadata": {},
   "source": [
    "revelvent infor has come so far from https://machinelearningmastery.com/singular-value-decomposition-for-machine-learning/\n"
   ]
  },
  {
   "cell_type": "code",
   "execution_count": 2,
   "metadata": {},
   "outputs": [],
   "source": [
    "%matplotlib inline\n",
    "import numpy as np\n",
    "import matplotlib.pyplot as plt \n",
    "import time\n",
    "import random\n",
    "#!pip install ProgressBar\n",
    "from progressbar import ProgressBar\n",
    "import math\n",
    "#!{sys.executable} -m pip install ProgressBar\n",
    "#!pip install ProgressBar\n",
    "from random import randrange\n",
    "from copy import copy, deepcopy\n",
    "\n",
    "import glob\n",
    "import json\n",
    "\n",
    "#svd stuff\n",
    "from scipy.linalg import svd\n",
    "from numpy.linalg import pinv\n"
   ]
  },
  {
   "cell_type": "code",
   "execution_count": 3,
   "metadata": {},
   "outputs": [],
   "source": [
    "#load the titles and wheater the book is alive or dead into two seperate arrays\n",
    "def loadResult():\n",
    "    test_labels = []\n",
    "    test_values = []\n",
    "    with open('table-of-contents.json', encoding=\"utf8\") as f:\n",
    "        data = json.load(f)\n",
    "        for books in data:\n",
    "            for book in data[books]:\n",
    "                test_labels.append(book['title'])\n",
    "                test_values.append(book['dead'])\n",
    "                \n",
    "    return test_labels, test_values\n",
    "\n",
    "#get the data from the data output file\n",
    "def loadData():\n",
    "    final_data = []\n",
    "    with open('dataOutput2.json', encoding=\"utf8\") as f:\n",
    "        data = json.load(f)\n",
    "        for index in data: \n",
    "            final_data.append(data[index]['chapData'][:-2])\n",
    "    return final_data"
   ]
  },
  {
   "cell_type": "code",
   "execution_count": 4,
   "metadata": {},
   "outputs": [
    {
     "name": "stdout",
     "output_type": "stream",
     "text": [
      "16705\n",
      "Training dataset dimensions:  (15705, 69)\n",
      "Number of training labels:  15705\n",
      "Testing dataset dimensions:  (1000, 69)\n",
      "Number of testing labels:  1000\n"
     ]
    }
   ],
   "source": [
    "\n",
    "                \n",
    "\n",
    "title_labels, dead_labels = loadResult()\n",
    "train = loadData()\n",
    "print(len(train))\n",
    "## Load the training set\n",
    "train_data= np.array(train[:15705])\n",
    "train_labels = np.array(dead_labels[:15705])\n",
    "train_titles = np.array(title_labels[:15705])\n",
    "\n",
    "\n",
    "## Load the testing set\n",
    "\n",
    "test_data= np.array(train[-1000:])\n",
    "test_labels = np.array(dead_labels[-1000:])\n",
    "test_titles = np.array(title_labels[-1000:])\n",
    "\n",
    "\n",
    "## Print out their dimensions\n",
    "print(\"Training dataset dimensions: \", np.shape(train_data))\n",
    "print(\"Number of training labels: \", len(train_labels))\n",
    "print(\"Testing dataset dimensions: \", np.shape(test_data))\n",
    "print(\"Number of testing labels: \", len(test_labels))\n",
    "\n"
   ]
  },
  {
   "cell_type": "markdown",
   "metadata": {},
   "source": [
    "For the next two items we are attempting to recreating the element. A should equal B\n"
   ]
  },
  {
   "cell_type": "markdown",
   "metadata": {
    "scrolled": true
   },
   "source": []
  },
  {
   "cell_type": "markdown",
   "metadata": {},
   "source": []
  },
  {
   "cell_type": "markdown",
   "metadata": {},
   "source": [
    "calculate pseudo inverse manually and compare to the built in version"
   ]
  },
  {
   "cell_type": "code",
   "execution_count": 5,
   "metadata": {
    "scrolled": true
   },
   "outputs": [
    {
     "name": "stdout",
     "output_type": "stream",
     "text": [
      "[[   0    0    0 ...  849    2    0]\n",
      " [   0    0    0 ...  336    0    0]\n",
      " [   0    0    0 ...  417   70   20]\n",
      " ...\n",
      " [   1    0    0 ... 3698  361   96]\n",
      " [   0    0    0 ...  142   13    5]\n",
      " [   0    0    0 ...  144    1    1]]\n",
      "[[ 1.10539048e-06 -7.78396633e-05 -1.91528908e-05 ...  4.97438820e-04\n",
      "  -2.80535040e-04 -8.64017032e-05]\n",
      " [-3.08622659e-05  4.24987368e-05 -2.50498934e-04 ... -1.72169825e-04\n",
      "  -2.19158417e-04 -1.35247758e-04]\n",
      " [-2.39926333e-05 -3.70039538e-05 -9.23720359e-05 ... -1.09323794e-05\n",
      "  -2.75439789e-04 -1.88112373e-04]\n",
      " ...\n",
      " [ 2.04634607e-09 -7.12583286e-09 -1.13517115e-08 ...  3.85638986e-09\n",
      "   9.53456417e-09 -2.63637089e-08]\n",
      " [ 2.52959025e-08 -9.56609454e-08 -1.84438388e-07 ...  3.44069819e-07\n",
      "  -1.38855558e-07 -1.34649674e-07]\n",
      " [-1.43451377e-07  3.33387678e-07  4.42646942e-07 ... -6.35014565e-07\n",
      "   2.39143595e-07  5.91673585e-07]]\n"
     ]
    }
   ],
   "source": [
    "#A= np.array([[0.1, 0.2],[0.3, 0.4],[0.5, 0.6],[0.7, 0.8]])\n",
    "A=np.array(train_data[:])\n",
    "print(A)\n",
    "# calculate pseudoinverse\n",
    "B = pinv(A)\n",
    "print(B)"
   ]
  },
  {
   "cell_type": "code",
   "execution_count": 6,
   "metadata": {},
   "outputs": [
    {
     "name": "stdout",
     "output_type": "stream",
     "text": [
      "[[   0    0    0 ...  849    2    0]\n",
      " [   0    0    0 ...  336    0    0]\n",
      " [   0    0    0 ...  417   70   20]\n",
      " ...\n",
      " [   1    0    0 ... 3698  361   96]\n",
      " [   0    0    0 ...  142   13    5]\n",
      " [   0    0    0 ...  144    1    1]]\n",
      "[[ 1.10539048e-06 -7.78396633e-05 -1.91528908e-05 ...  4.97438820e-04\n",
      "  -2.80535040e-04 -8.64017032e-05]\n",
      " [-3.08626433e-05  4.24987842e-05 -2.50498858e-04 ... -1.72169833e-04\n",
      "  -2.19158502e-04 -1.35247772e-04]\n",
      " [-2.39902283e-05 -3.70042778e-05 -9.23725910e-05 ... -1.09323130e-05\n",
      "  -2.75438837e-04 -1.88112272e-04]\n",
      " ...\n",
      " [ 2.04636440e-09 -7.12583510e-09 -1.13517150e-08 ...  3.85639025e-09\n",
      "   9.53456725e-09 -2.63637083e-08]\n",
      " [ 2.52958416e-08 -9.56609392e-08 -1.84438381e-07 ...  3.44069819e-07\n",
      "  -1.38855544e-07 -1.34649675e-07]\n",
      " [-1.43451749e-07  3.33387730e-07  4.42647034e-07 ... -6.35014576e-07\n",
      "   2.39143413e-07  5.91673569e-07]]\n"
     ]
    }
   ],
   "source": [
    "print(A)\n",
    "# calculate svd\n",
    "U, s, VT = svd(A)\n",
    "# reciprocals of s\n",
    "d = 1.0 / s\n",
    "# create m x n D matrix\n",
    "D = np.zeros(A.shape)\n",
    "# populate D with n x n diagonal matrix\n",
    "D[:A.shape[1], :A.shape[1]] = np.diag(d)\n",
    "# calculate pseudoinverse\n",
    "B = VT.T.dot(D.T).dot(U.T)\n",
    "print(B)\n"
   ]
  },
  {
   "cell_type": "code",
   "execution_count": null,
   "metadata": {},
   "outputs": [],
   "source": []
  },
  {
   "cell_type": "code",
   "execution_count": 13,
   "metadata": {},
   "outputs": [
    {
     "name": "stdout",
     "output_type": "stream",
     "text": [
      "eeror rate:  0.4213944603629417\n"
     ]
    }
   ],
   "source": [
    "\n",
    "true = 0\n",
    "\n",
    "for i in range(len(train_data)):\n",
    "    x = train_data[i]\n",
    "    predict = np.sum(x.dot(B))\n",
    "    \n",
    "    #find the error\n",
    "    if (train_labels[i] == False) and (predict<1):\n",
    "        true +=1\n",
    "    elif (train_labels[i] == True) and (predict>1):\n",
    "        true+=1\n",
    "    \n",
    "   \n",
    "    \n",
    "    #these are  the results from the svd classification\n",
    "    #print(predict, end = \": \")\n",
    "    #print(train_labels[i])\n",
    "    \n",
    "    #calculate the error\n",
    "    \n",
    "print('eeror rate: ', 1-(true/len(train_data)))"
   ]
  },
  {
   "cell_type": "code",
   "execution_count": null,
   "metadata": {},
   "outputs": [],
   "source": []
  },
  {
   "cell_type": "code",
   "execution_count": null,
   "metadata": {},
   "outputs": [],
   "source": []
  }
 ],
 "metadata": {
  "kernelspec": {
   "display_name": "Python 3",
   "language": "python",
   "name": "python3"
  },
  "language_info": {
   "codemirror_mode": {
    "name": "ipython",
    "version": 3
   },
   "file_extension": ".py",
   "mimetype": "text/x-python",
   "name": "python",
   "nbconvert_exporter": "python",
   "pygments_lexer": "ipython3",
   "version": "3.6.4"
  }
 },
 "nbformat": 4,
 "nbformat_minor": 2
}
